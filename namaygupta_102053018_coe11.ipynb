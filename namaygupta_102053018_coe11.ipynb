{
  "cells": [
    {
      "cell_type": "markdown",
      "metadata": {
        "id": "txx2RJPQyS0e"
      },
      "source": [
        "Loading of Dataset"
      ]
    },
    {
      "cell_type": "code",
      "execution_count": null,
      "metadata": {
        "id": "DrcmPM3sTD7g"
      },
      "outputs": [],
      "source": [
        "import pandas as pd\n",
        "import numpy as np"
      ]
    },
    {
      "cell_type": "code",
      "execution_count": null,
      "metadata": {
        "id": "L5MwGHdoTwBt"
      },
      "outputs": [],
      "source": [
        "df=pd.read_csv('Creditcard_data.csv')"
      ]
    },
    {
      "cell_type": "code",
      "execution_count": null,
      "metadata": {
        "colab": {
          "base_uri": "https://localhost:8080/",
          "height": 299
        },
        "id": "l5qTuHOkT5Kb",
        "outputId": "b6c6f3aa-64e9-4422-cd88-7b4959a8335c"
      },
      "outputs": [
        {
          "data": {
            "text/html": [
              "\n",
              "  <div id=\"df-9d70c0cb-e837-41af-9975-a02bd6078190\">\n",
              "    <div class=\"colab-df-container\">\n",
              "      <div>\n",
              "<style scoped>\n",
              "    .dataframe tbody tr th:only-of-type {\n",
              "        vertical-align: middle;\n",
              "    }\n",
              "\n",
              "    .dataframe tbody tr th {\n",
              "        vertical-align: top;\n",
              "    }\n",
              "\n",
              "    .dataframe thead th {\n",
              "        text-align: right;\n",
              "    }\n",
              "</style>\n",
              "<table border=\"1\" class=\"dataframe\">\n",
              "  <thead>\n",
              "    <tr style=\"text-align: right;\">\n",
              "      <th></th>\n",
              "      <th>Time</th>\n",
              "      <th>V1</th>\n",
              "      <th>V2</th>\n",
              "      <th>V3</th>\n",
              "      <th>V4</th>\n",
              "      <th>V5</th>\n",
              "      <th>V6</th>\n",
              "      <th>V7</th>\n",
              "      <th>V8</th>\n",
              "      <th>V9</th>\n",
              "      <th>...</th>\n",
              "      <th>V21</th>\n",
              "      <th>V22</th>\n",
              "      <th>V23</th>\n",
              "      <th>V24</th>\n",
              "      <th>V25</th>\n",
              "      <th>V26</th>\n",
              "      <th>V27</th>\n",
              "      <th>V28</th>\n",
              "      <th>Amount</th>\n",
              "      <th>Class</th>\n",
              "    </tr>\n",
              "  </thead>\n",
              "  <tbody>\n",
              "    <tr>\n",
              "      <th>0</th>\n",
              "      <td>0</td>\n",
              "      <td>-1.359807</td>\n",
              "      <td>-0.072781</td>\n",
              "      <td>2.536347</td>\n",
              "      <td>1.378155</td>\n",
              "      <td>-0.338321</td>\n",
              "      <td>0.462388</td>\n",
              "      <td>0.239599</td>\n",
              "      <td>0.098698</td>\n",
              "      <td>0.363787</td>\n",
              "      <td>...</td>\n",
              "      <td>-0.018307</td>\n",
              "      <td>0.277838</td>\n",
              "      <td>-0.110474</td>\n",
              "      <td>0.066928</td>\n",
              "      <td>0.128539</td>\n",
              "      <td>-0.189115</td>\n",
              "      <td>0.133558</td>\n",
              "      <td>-0.021053</td>\n",
              "      <td>149.62</td>\n",
              "      <td>0</td>\n",
              "    </tr>\n",
              "    <tr>\n",
              "      <th>1</th>\n",
              "      <td>0</td>\n",
              "      <td>1.191857</td>\n",
              "      <td>0.266151</td>\n",
              "      <td>0.166480</td>\n",
              "      <td>0.448154</td>\n",
              "      <td>0.060018</td>\n",
              "      <td>-0.082361</td>\n",
              "      <td>-0.078803</td>\n",
              "      <td>0.085102</td>\n",
              "      <td>-0.255425</td>\n",
              "      <td>...</td>\n",
              "      <td>-0.225775</td>\n",
              "      <td>-0.638672</td>\n",
              "      <td>0.101288</td>\n",
              "      <td>-0.339846</td>\n",
              "      <td>0.167170</td>\n",
              "      <td>0.125895</td>\n",
              "      <td>-0.008983</td>\n",
              "      <td>0.014724</td>\n",
              "      <td>2.69</td>\n",
              "      <td>1</td>\n",
              "    </tr>\n",
              "    <tr>\n",
              "      <th>2</th>\n",
              "      <td>1</td>\n",
              "      <td>-1.358354</td>\n",
              "      <td>-1.340163</td>\n",
              "      <td>1.773209</td>\n",
              "      <td>0.379780</td>\n",
              "      <td>-0.503198</td>\n",
              "      <td>1.800499</td>\n",
              "      <td>0.791461</td>\n",
              "      <td>0.247676</td>\n",
              "      <td>-1.514654</td>\n",
              "      <td>...</td>\n",
              "      <td>0.247998</td>\n",
              "      <td>0.771679</td>\n",
              "      <td>0.909412</td>\n",
              "      <td>-0.689281</td>\n",
              "      <td>-0.327642</td>\n",
              "      <td>-0.139097</td>\n",
              "      <td>-0.055353</td>\n",
              "      <td>-0.059752</td>\n",
              "      <td>378.66</td>\n",
              "      <td>0</td>\n",
              "    </tr>\n",
              "    <tr>\n",
              "      <th>3</th>\n",
              "      <td>1</td>\n",
              "      <td>-0.966272</td>\n",
              "      <td>-0.185226</td>\n",
              "      <td>1.792993</td>\n",
              "      <td>-0.863291</td>\n",
              "      <td>-0.010309</td>\n",
              "      <td>1.247203</td>\n",
              "      <td>0.237609</td>\n",
              "      <td>0.377436</td>\n",
              "      <td>-1.387024</td>\n",
              "      <td>...</td>\n",
              "      <td>-0.108300</td>\n",
              "      <td>0.005274</td>\n",
              "      <td>-0.190321</td>\n",
              "      <td>-1.175575</td>\n",
              "      <td>0.647376</td>\n",
              "      <td>-0.221929</td>\n",
              "      <td>0.062723</td>\n",
              "      <td>0.061458</td>\n",
              "      <td>123.50</td>\n",
              "      <td>0</td>\n",
              "    </tr>\n",
              "    <tr>\n",
              "      <th>4</th>\n",
              "      <td>2</td>\n",
              "      <td>-1.158233</td>\n",
              "      <td>0.877737</td>\n",
              "      <td>1.548718</td>\n",
              "      <td>0.403034</td>\n",
              "      <td>-0.407193</td>\n",
              "      <td>0.095921</td>\n",
              "      <td>0.592941</td>\n",
              "      <td>-0.270533</td>\n",
              "      <td>0.817739</td>\n",
              "      <td>...</td>\n",
              "      <td>-0.009431</td>\n",
              "      <td>0.798278</td>\n",
              "      <td>-0.137458</td>\n",
              "      <td>0.141267</td>\n",
              "      <td>-0.206010</td>\n",
              "      <td>0.502292</td>\n",
              "      <td>0.219422</td>\n",
              "      <td>0.215153</td>\n",
              "      <td>69.99</td>\n",
              "      <td>0</td>\n",
              "    </tr>\n",
              "  </tbody>\n",
              "</table>\n",
              "<p>5 rows × 31 columns</p>\n",
              "</div>\n",
              "      <button class=\"colab-df-convert\" onclick=\"convertToInteractive('df-9d70c0cb-e837-41af-9975-a02bd6078190')\"\n",
              "              title=\"Convert this dataframe to an interactive table.\"\n",
              "              style=\"display:none;\">\n",
              "        \n",
              "  <svg xmlns=\"http://www.w3.org/2000/svg\" height=\"24px\"viewBox=\"0 0 24 24\"\n",
              "       width=\"24px\">\n",
              "    <path d=\"M0 0h24v24H0V0z\" fill=\"none\"/>\n",
              "    <path d=\"M18.56 5.44l.94 2.06.94-2.06 2.06-.94-2.06-.94-.94-2.06-.94 2.06-2.06.94zm-11 1L8.5 8.5l.94-2.06 2.06-.94-2.06-.94L8.5 2.5l-.94 2.06-2.06.94zm10 10l.94 2.06.94-2.06 2.06-.94-2.06-.94-.94-2.06-.94 2.06-2.06.94z\"/><path d=\"M17.41 7.96l-1.37-1.37c-.4-.4-.92-.59-1.43-.59-.52 0-1.04.2-1.43.59L10.3 9.45l-7.72 7.72c-.78.78-.78 2.05 0 2.83L4 21.41c.39.39.9.59 1.41.59.51 0 1.02-.2 1.41-.59l7.78-7.78 2.81-2.81c.8-.78.8-2.07 0-2.86zM5.41 20L4 18.59l7.72-7.72 1.47 1.35L5.41 20z\"/>\n",
              "  </svg>\n",
              "      </button>\n",
              "      \n",
              "  <style>\n",
              "    .colab-df-container {\n",
              "      display:flex;\n",
              "      flex-wrap:wrap;\n",
              "      gap: 12px;\n",
              "    }\n",
              "\n",
              "    .colab-df-convert {\n",
              "      background-color: #E8F0FE;\n",
              "      border: none;\n",
              "      border-radius: 50%;\n",
              "      cursor: pointer;\n",
              "      display: none;\n",
              "      fill: #1967D2;\n",
              "      height: 32px;\n",
              "      padding: 0 0 0 0;\n",
              "      width: 32px;\n",
              "    }\n",
              "\n",
              "    .colab-df-convert:hover {\n",
              "      background-color: #E2EBFA;\n",
              "      box-shadow: 0px 1px 2px rgba(60, 64, 67, 0.3), 0px 1px 3px 1px rgba(60, 64, 67, 0.15);\n",
              "      fill: #174EA6;\n",
              "    }\n",
              "\n",
              "    [theme=dark] .colab-df-convert {\n",
              "      background-color: #3B4455;\n",
              "      fill: #D2E3FC;\n",
              "    }\n",
              "\n",
              "    [theme=dark] .colab-df-convert:hover {\n",
              "      background-color: #434B5C;\n",
              "      box-shadow: 0px 1px 3px 1px rgba(0, 0, 0, 0.15);\n",
              "      filter: drop-shadow(0px 1px 2px rgba(0, 0, 0, 0.3));\n",
              "      fill: #FFFFFF;\n",
              "    }\n",
              "  </style>\n",
              "\n",
              "      <script>\n",
              "        const buttonEl =\n",
              "          document.querySelector('#df-9d70c0cb-e837-41af-9975-a02bd6078190 button.colab-df-convert');\n",
              "        buttonEl.style.display =\n",
              "          google.colab.kernel.accessAllowed ? 'block' : 'none';\n",
              "\n",
              "        async function convertToInteractive(key) {\n",
              "          const element = document.querySelector('#df-9d70c0cb-e837-41af-9975-a02bd6078190');\n",
              "          const dataTable =\n",
              "            await google.colab.kernel.invokeFunction('convertToInteractive',\n",
              "                                                     [key], {});\n",
              "          if (!dataTable) return;\n",
              "\n",
              "          const docLinkHtml = 'Like what you see? Visit the ' +\n",
              "            '<a target=\"_blank\" href=https://colab.research.google.com/notebooks/data_table.ipynb>data table notebook</a>'\n",
              "            + ' to learn more about interactive tables.';\n",
              "          element.innerHTML = '';\n",
              "          dataTable['output_type'] = 'display_data';\n",
              "          await google.colab.output.renderOutput(dataTable, element);\n",
              "          const docLink = document.createElement('div');\n",
              "          docLink.innerHTML = docLinkHtml;\n",
              "          element.appendChild(docLink);\n",
              "        }\n",
              "      </script>\n",
              "    </div>\n",
              "  </div>\n",
              "  "
            ],
            "text/plain": [
              "   Time        V1        V2        V3        V4        V5        V6        V7  \\\n",
              "0     0 -1.359807 -0.072781  2.536347  1.378155 -0.338321  0.462388  0.239599   \n",
              "1     0  1.191857  0.266151  0.166480  0.448154  0.060018 -0.082361 -0.078803   \n",
              "2     1 -1.358354 -1.340163  1.773209  0.379780 -0.503198  1.800499  0.791461   \n",
              "3     1 -0.966272 -0.185226  1.792993 -0.863291 -0.010309  1.247203  0.237609   \n",
              "4     2 -1.158233  0.877737  1.548718  0.403034 -0.407193  0.095921  0.592941   \n",
              "\n",
              "         V8        V9  ...       V21       V22       V23       V24       V25  \\\n",
              "0  0.098698  0.363787  ... -0.018307  0.277838 -0.110474  0.066928  0.128539   \n",
              "1  0.085102 -0.255425  ... -0.225775 -0.638672  0.101288 -0.339846  0.167170   \n",
              "2  0.247676 -1.514654  ...  0.247998  0.771679  0.909412 -0.689281 -0.327642   \n",
              "3  0.377436 -1.387024  ... -0.108300  0.005274 -0.190321 -1.175575  0.647376   \n",
              "4 -0.270533  0.817739  ... -0.009431  0.798278 -0.137458  0.141267 -0.206010   \n",
              "\n",
              "        V26       V27       V28  Amount  Class  \n",
              "0 -0.189115  0.133558 -0.021053  149.62      0  \n",
              "1  0.125895 -0.008983  0.014724    2.69      1  \n",
              "2 -0.139097 -0.055353 -0.059752  378.66      0  \n",
              "3 -0.221929  0.062723  0.061458  123.50      0  \n",
              "4  0.502292  0.219422  0.215153   69.99      0  \n",
              "\n",
              "[5 rows x 31 columns]"
            ]
          },
          "execution_count": 4,
          "metadata": {},
          "output_type": "execute_result"
        }
      ],
      "source": [
        "df.head()"
      ]
    },
    {
      "cell_type": "markdown",
      "metadata": {
        "id": "1CWcU1dxgiXT"
      },
      "source": [
        "Performing oversampling by applying SMOTE"
      ]
    },
    {
      "cell_type": "code",
      "execution_count": null,
      "metadata": {
        "id": "Qf_tApU4eoLb"
      },
      "outputs": [],
      "source": [
        "x_res=df.iloc[:, df.columns!= 'Class']\n",
        "y_res=df.iloc[:,df.columns=='Class']"
      ]
    },
    {
      "cell_type": "code",
      "execution_count": null,
      "metadata": {
        "id": "ErqbkjCwiivR"
      },
      "outputs": [],
      "source": [
        "from imblearn.over_sampling import SMOTE"
      ]
    },
    {
      "cell_type": "code",
      "execution_count": null,
      "metadata": {
        "id": "nCJ-lGk1ilfZ"
      },
      "outputs": [],
      "source": [
        "sample=SMOTE()\n",
        "x_res,y_res=sample.fit_resample(x_res,y_res)"
      ]
    },
    {
      "cell_type": "code",
      "execution_count": null,
      "metadata": {
        "colab": {
          "base_uri": "https://localhost:8080/",
          "height": 488
        },
        "id": "HZhd2O5GiudX",
        "outputId": "a090a5e3-d389-4bbe-a35a-39d20ed161ec"
      },
      "outputs": [
        {
          "data": {
            "text/html": [
              "\n",
              "  <div id=\"df-ae38ec02-136a-475f-88df-311cf7788a1f\">\n",
              "    <div class=\"colab-df-container\">\n",
              "      <div>\n",
              "<style scoped>\n",
              "    .dataframe tbody tr th:only-of-type {\n",
              "        vertical-align: middle;\n",
              "    }\n",
              "\n",
              "    .dataframe tbody tr th {\n",
              "        vertical-align: top;\n",
              "    }\n",
              "\n",
              "    .dataframe thead th {\n",
              "        text-align: right;\n",
              "    }\n",
              "</style>\n",
              "<table border=\"1\" class=\"dataframe\">\n",
              "  <thead>\n",
              "    <tr style=\"text-align: right;\">\n",
              "      <th></th>\n",
              "      <th>Time</th>\n",
              "      <th>V1</th>\n",
              "      <th>V2</th>\n",
              "      <th>V3</th>\n",
              "      <th>V4</th>\n",
              "      <th>V5</th>\n",
              "      <th>V6</th>\n",
              "      <th>V7</th>\n",
              "      <th>V8</th>\n",
              "      <th>V9</th>\n",
              "      <th>...</th>\n",
              "      <th>V20</th>\n",
              "      <th>V21</th>\n",
              "      <th>V22</th>\n",
              "      <th>V23</th>\n",
              "      <th>V24</th>\n",
              "      <th>V25</th>\n",
              "      <th>V26</th>\n",
              "      <th>V27</th>\n",
              "      <th>V28</th>\n",
              "      <th>Amount</th>\n",
              "    </tr>\n",
              "  </thead>\n",
              "  <tbody>\n",
              "    <tr>\n",
              "      <th>0</th>\n",
              "      <td>0</td>\n",
              "      <td>-1.359807</td>\n",
              "      <td>-0.072781</td>\n",
              "      <td>2.536347</td>\n",
              "      <td>1.378155</td>\n",
              "      <td>-0.338321</td>\n",
              "      <td>0.462388</td>\n",
              "      <td>0.239599</td>\n",
              "      <td>0.098698</td>\n",
              "      <td>0.363787</td>\n",
              "      <td>...</td>\n",
              "      <td>0.251412</td>\n",
              "      <td>-0.018307</td>\n",
              "      <td>0.277838</td>\n",
              "      <td>-0.110474</td>\n",
              "      <td>0.066928</td>\n",
              "      <td>0.128539</td>\n",
              "      <td>-0.189115</td>\n",
              "      <td>0.133558</td>\n",
              "      <td>-0.021053</td>\n",
              "      <td>149.620000</td>\n",
              "    </tr>\n",
              "    <tr>\n",
              "      <th>1</th>\n",
              "      <td>0</td>\n",
              "      <td>1.191857</td>\n",
              "      <td>0.266151</td>\n",
              "      <td>0.166480</td>\n",
              "      <td>0.448154</td>\n",
              "      <td>0.060018</td>\n",
              "      <td>-0.082361</td>\n",
              "      <td>-0.078803</td>\n",
              "      <td>0.085102</td>\n",
              "      <td>-0.255425</td>\n",
              "      <td>...</td>\n",
              "      <td>-0.069083</td>\n",
              "      <td>-0.225775</td>\n",
              "      <td>-0.638672</td>\n",
              "      <td>0.101288</td>\n",
              "      <td>-0.339846</td>\n",
              "      <td>0.167170</td>\n",
              "      <td>0.125895</td>\n",
              "      <td>-0.008983</td>\n",
              "      <td>0.014724</td>\n",
              "      <td>2.690000</td>\n",
              "    </tr>\n",
              "    <tr>\n",
              "      <th>2</th>\n",
              "      <td>1</td>\n",
              "      <td>-1.358354</td>\n",
              "      <td>-1.340163</td>\n",
              "      <td>1.773209</td>\n",
              "      <td>0.379780</td>\n",
              "      <td>-0.503198</td>\n",
              "      <td>1.800499</td>\n",
              "      <td>0.791461</td>\n",
              "      <td>0.247676</td>\n",
              "      <td>-1.514654</td>\n",
              "      <td>...</td>\n",
              "      <td>0.524980</td>\n",
              "      <td>0.247998</td>\n",
              "      <td>0.771679</td>\n",
              "      <td>0.909412</td>\n",
              "      <td>-0.689281</td>\n",
              "      <td>-0.327642</td>\n",
              "      <td>-0.139097</td>\n",
              "      <td>-0.055353</td>\n",
              "      <td>-0.059752</td>\n",
              "      <td>378.660000</td>\n",
              "    </tr>\n",
              "    <tr>\n",
              "      <th>3</th>\n",
              "      <td>1</td>\n",
              "      <td>-0.966272</td>\n",
              "      <td>-0.185226</td>\n",
              "      <td>1.792993</td>\n",
              "      <td>-0.863291</td>\n",
              "      <td>-0.010309</td>\n",
              "      <td>1.247203</td>\n",
              "      <td>0.237609</td>\n",
              "      <td>0.377436</td>\n",
              "      <td>-1.387024</td>\n",
              "      <td>...</td>\n",
              "      <td>-0.208038</td>\n",
              "      <td>-0.108300</td>\n",
              "      <td>0.005274</td>\n",
              "      <td>-0.190321</td>\n",
              "      <td>-1.175575</td>\n",
              "      <td>0.647376</td>\n",
              "      <td>-0.221929</td>\n",
              "      <td>0.062723</td>\n",
              "      <td>0.061458</td>\n",
              "      <td>123.500000</td>\n",
              "    </tr>\n",
              "    <tr>\n",
              "      <th>4</th>\n",
              "      <td>2</td>\n",
              "      <td>-1.158233</td>\n",
              "      <td>0.877737</td>\n",
              "      <td>1.548718</td>\n",
              "      <td>0.403034</td>\n",
              "      <td>-0.407193</td>\n",
              "      <td>0.095921</td>\n",
              "      <td>0.592941</td>\n",
              "      <td>-0.270533</td>\n",
              "      <td>0.817739</td>\n",
              "      <td>...</td>\n",
              "      <td>0.408542</td>\n",
              "      <td>-0.009431</td>\n",
              "      <td>0.798278</td>\n",
              "      <td>-0.137458</td>\n",
              "      <td>0.141267</td>\n",
              "      <td>-0.206010</td>\n",
              "      <td>0.502292</td>\n",
              "      <td>0.219422</td>\n",
              "      <td>0.215153</td>\n",
              "      <td>69.990000</td>\n",
              "    </tr>\n",
              "    <tr>\n",
              "      <th>...</th>\n",
              "      <td>...</td>\n",
              "      <td>...</td>\n",
              "      <td>...</td>\n",
              "      <td>...</td>\n",
              "      <td>...</td>\n",
              "      <td>...</td>\n",
              "      <td>...</td>\n",
              "      <td>...</td>\n",
              "      <td>...</td>\n",
              "      <td>...</td>\n",
              "      <td>...</td>\n",
              "      <td>...</td>\n",
              "      <td>...</td>\n",
              "      <td>...</td>\n",
              "      <td>...</td>\n",
              "      <td>...</td>\n",
              "      <td>...</td>\n",
              "      <td>...</td>\n",
              "      <td>...</td>\n",
              "      <td>...</td>\n",
              "      <td>...</td>\n",
              "    </tr>\n",
              "    <tr>\n",
              "      <th>1521</th>\n",
              "      <td>535</td>\n",
              "      <td>0.327819</td>\n",
              "      <td>0.378972</td>\n",
              "      <td>0.917073</td>\n",
              "      <td>0.474536</td>\n",
              "      <td>0.205549</td>\n",
              "      <td>-0.996657</td>\n",
              "      <td>0.428123</td>\n",
              "      <td>-0.187451</td>\n",
              "      <td>-0.052155</td>\n",
              "      <td>...</td>\n",
              "      <td>-0.092712</td>\n",
              "      <td>-0.136592</td>\n",
              "      <td>-0.351823</td>\n",
              "      <td>-0.036394</td>\n",
              "      <td>0.361105</td>\n",
              "      <td>0.293441</td>\n",
              "      <td>-0.138847</td>\n",
              "      <td>-0.057184</td>\n",
              "      <td>-0.035724</td>\n",
              "      <td>1.166626</td>\n",
              "    </tr>\n",
              "    <tr>\n",
              "      <th>1522</th>\n",
              "      <td>556</td>\n",
              "      <td>0.010063</td>\n",
              "      <td>-0.730491</td>\n",
              "      <td>1.134112</td>\n",
              "      <td>0.862727</td>\n",
              "      <td>0.721961</td>\n",
              "      <td>-0.431170</td>\n",
              "      <td>-0.749853</td>\n",
              "      <td>0.172099</td>\n",
              "      <td>0.376065</td>\n",
              "      <td>...</td>\n",
              "      <td>0.192225</td>\n",
              "      <td>-0.015249</td>\n",
              "      <td>-0.048676</td>\n",
              "      <td>0.192826</td>\n",
              "      <td>-0.116463</td>\n",
              "      <td>0.052467</td>\n",
              "      <td>0.387947</td>\n",
              "      <td>-0.061412</td>\n",
              "      <td>-0.046407</td>\n",
              "      <td>1.370413</td>\n",
              "    </tr>\n",
              "    <tr>\n",
              "      <th>1523</th>\n",
              "      <td>476</td>\n",
              "      <td>-2.248113</td>\n",
              "      <td>-1.820410</td>\n",
              "      <td>1.333871</td>\n",
              "      <td>1.496782</td>\n",
              "      <td>1.211877</td>\n",
              "      <td>-1.003225</td>\n",
              "      <td>0.533673</td>\n",
              "      <td>-0.101182</td>\n",
              "      <td>-0.222510</td>\n",
              "      <td>...</td>\n",
              "      <td>1.267367</td>\n",
              "      <td>0.437842</td>\n",
              "      <td>0.377535</td>\n",
              "      <td>0.761594</td>\n",
              "      <td>-0.038423</td>\n",
              "      <td>0.321655</td>\n",
              "      <td>-0.261357</td>\n",
              "      <td>-0.197002</td>\n",
              "      <td>-0.024972</td>\n",
              "      <td>330.467791</td>\n",
              "    </tr>\n",
              "    <tr>\n",
              "      <th>1524</th>\n",
              "      <td>441</td>\n",
              "      <td>-1.679515</td>\n",
              "      <td>1.241726</td>\n",
              "      <td>-0.078063</td>\n",
              "      <td>2.253902</td>\n",
              "      <td>0.158263</td>\n",
              "      <td>-1.186312</td>\n",
              "      <td>-0.975695</td>\n",
              "      <td>0.683929</td>\n",
              "      <td>-1.568801</td>\n",
              "      <td>...</td>\n",
              "      <td>0.014828</td>\n",
              "      <td>0.311128</td>\n",
              "      <td>0.109594</td>\n",
              "      <td>-0.370476</td>\n",
              "      <td>0.349996</td>\n",
              "      <td>0.202955</td>\n",
              "      <td>-0.110917</td>\n",
              "      <td>0.094027</td>\n",
              "      <td>-0.135272</td>\n",
              "      <td>0.457116</td>\n",
              "    </tr>\n",
              "    <tr>\n",
              "      <th>1525</th>\n",
              "      <td>527</td>\n",
              "      <td>-1.963731</td>\n",
              "      <td>-2.396095</td>\n",
              "      <td>2.442212</td>\n",
              "      <td>1.107170</td>\n",
              "      <td>2.410640</td>\n",
              "      <td>0.542904</td>\n",
              "      <td>-2.007513</td>\n",
              "      <td>0.755891</td>\n",
              "      <td>0.920996</td>\n",
              "      <td>...</td>\n",
              "      <td>0.595510</td>\n",
              "      <td>0.410221</td>\n",
              "      <td>1.164000</td>\n",
              "      <td>0.278746</td>\n",
              "      <td>-0.814429</td>\n",
              "      <td>-0.198355</td>\n",
              "      <td>0.815857</td>\n",
              "      <td>-0.123929</td>\n",
              "      <td>-0.169504</td>\n",
              "      <td>1.482827</td>\n",
              "    </tr>\n",
              "  </tbody>\n",
              "</table>\n",
              "<p>1526 rows × 30 columns</p>\n",
              "</div>\n",
              "      <button class=\"colab-df-convert\" onclick=\"convertToInteractive('df-ae38ec02-136a-475f-88df-311cf7788a1f')\"\n",
              "              title=\"Convert this dataframe to an interactive table.\"\n",
              "              style=\"display:none;\">\n",
              "        \n",
              "  <svg xmlns=\"http://www.w3.org/2000/svg\" height=\"24px\"viewBox=\"0 0 24 24\"\n",
              "       width=\"24px\">\n",
              "    <path d=\"M0 0h24v24H0V0z\" fill=\"none\"/>\n",
              "    <path d=\"M18.56 5.44l.94 2.06.94-2.06 2.06-.94-2.06-.94-.94-2.06-.94 2.06-2.06.94zm-11 1L8.5 8.5l.94-2.06 2.06-.94-2.06-.94L8.5 2.5l-.94 2.06-2.06.94zm10 10l.94 2.06.94-2.06 2.06-.94-2.06-.94-.94-2.06-.94 2.06-2.06.94z\"/><path d=\"M17.41 7.96l-1.37-1.37c-.4-.4-.92-.59-1.43-.59-.52 0-1.04.2-1.43.59L10.3 9.45l-7.72 7.72c-.78.78-.78 2.05 0 2.83L4 21.41c.39.39.9.59 1.41.59.51 0 1.02-.2 1.41-.59l7.78-7.78 2.81-2.81c.8-.78.8-2.07 0-2.86zM5.41 20L4 18.59l7.72-7.72 1.47 1.35L5.41 20z\"/>\n",
              "  </svg>\n",
              "      </button>\n",
              "      \n",
              "  <style>\n",
              "    .colab-df-container {\n",
              "      display:flex;\n",
              "      flex-wrap:wrap;\n",
              "      gap: 12px;\n",
              "    }\n",
              "\n",
              "    .colab-df-convert {\n",
              "      background-color: #E8F0FE;\n",
              "      border: none;\n",
              "      border-radius: 50%;\n",
              "      cursor: pointer;\n",
              "      display: none;\n",
              "      fill: #1967D2;\n",
              "      height: 32px;\n",
              "      padding: 0 0 0 0;\n",
              "      width: 32px;\n",
              "    }\n",
              "\n",
              "    .colab-df-convert:hover {\n",
              "      background-color: #E2EBFA;\n",
              "      box-shadow: 0px 1px 2px rgba(60, 64, 67, 0.3), 0px 1px 3px 1px rgba(60, 64, 67, 0.15);\n",
              "      fill: #174EA6;\n",
              "    }\n",
              "\n",
              "    [theme=dark] .colab-df-convert {\n",
              "      background-color: #3B4455;\n",
              "      fill: #D2E3FC;\n",
              "    }\n",
              "\n",
              "    [theme=dark] .colab-df-convert:hover {\n",
              "      background-color: #434B5C;\n",
              "      box-shadow: 0px 1px 3px 1px rgba(0, 0, 0, 0.15);\n",
              "      filter: drop-shadow(0px 1px 2px rgba(0, 0, 0, 0.3));\n",
              "      fill: #FFFFFF;\n",
              "    }\n",
              "  </style>\n",
              "\n",
              "      <script>\n",
              "        const buttonEl =\n",
              "          document.querySelector('#df-ae38ec02-136a-475f-88df-311cf7788a1f button.colab-df-convert');\n",
              "        buttonEl.style.display =\n",
              "          google.colab.kernel.accessAllowed ? 'block' : 'none';\n",
              "\n",
              "        async function convertToInteractive(key) {\n",
              "          const element = document.querySelector('#df-ae38ec02-136a-475f-88df-311cf7788a1f');\n",
              "          const dataTable =\n",
              "            await google.colab.kernel.invokeFunction('convertToInteractive',\n",
              "                                                     [key], {});\n",
              "          if (!dataTable) return;\n",
              "\n",
              "          const docLinkHtml = 'Like what you see? Visit the ' +\n",
              "            '<a target=\"_blank\" href=https://colab.research.google.com/notebooks/data_table.ipynb>data table notebook</a>'\n",
              "            + ' to learn more about interactive tables.';\n",
              "          element.innerHTML = '';\n",
              "          dataTable['output_type'] = 'display_data';\n",
              "          await google.colab.output.renderOutput(dataTable, element);\n",
              "          const docLink = document.createElement('div');\n",
              "          docLink.innerHTML = docLinkHtml;\n",
              "          element.appendChild(docLink);\n",
              "        }\n",
              "      </script>\n",
              "    </div>\n",
              "  </div>\n",
              "  "
            ],
            "text/plain": [
              "      Time        V1        V2        V3        V4        V5        V6  \\\n",
              "0        0 -1.359807 -0.072781  2.536347  1.378155 -0.338321  0.462388   \n",
              "1        0  1.191857  0.266151  0.166480  0.448154  0.060018 -0.082361   \n",
              "2        1 -1.358354 -1.340163  1.773209  0.379780 -0.503198  1.800499   \n",
              "3        1 -0.966272 -0.185226  1.792993 -0.863291 -0.010309  1.247203   \n",
              "4        2 -1.158233  0.877737  1.548718  0.403034 -0.407193  0.095921   \n",
              "...    ...       ...       ...       ...       ...       ...       ...   \n",
              "1521   535  0.327819  0.378972  0.917073  0.474536  0.205549 -0.996657   \n",
              "1522   556  0.010063 -0.730491  1.134112  0.862727  0.721961 -0.431170   \n",
              "1523   476 -2.248113 -1.820410  1.333871  1.496782  1.211877 -1.003225   \n",
              "1524   441 -1.679515  1.241726 -0.078063  2.253902  0.158263 -1.186312   \n",
              "1525   527 -1.963731 -2.396095  2.442212  1.107170  2.410640  0.542904   \n",
              "\n",
              "            V7        V8        V9  ...       V20       V21       V22  \\\n",
              "0     0.239599  0.098698  0.363787  ...  0.251412 -0.018307  0.277838   \n",
              "1    -0.078803  0.085102 -0.255425  ... -0.069083 -0.225775 -0.638672   \n",
              "2     0.791461  0.247676 -1.514654  ...  0.524980  0.247998  0.771679   \n",
              "3     0.237609  0.377436 -1.387024  ... -0.208038 -0.108300  0.005274   \n",
              "4     0.592941 -0.270533  0.817739  ...  0.408542 -0.009431  0.798278   \n",
              "...        ...       ...       ...  ...       ...       ...       ...   \n",
              "1521  0.428123 -0.187451 -0.052155  ... -0.092712 -0.136592 -0.351823   \n",
              "1522 -0.749853  0.172099  0.376065  ...  0.192225 -0.015249 -0.048676   \n",
              "1523  0.533673 -0.101182 -0.222510  ...  1.267367  0.437842  0.377535   \n",
              "1524 -0.975695  0.683929 -1.568801  ...  0.014828  0.311128  0.109594   \n",
              "1525 -2.007513  0.755891  0.920996  ...  0.595510  0.410221  1.164000   \n",
              "\n",
              "           V23       V24       V25       V26       V27       V28      Amount  \n",
              "0    -0.110474  0.066928  0.128539 -0.189115  0.133558 -0.021053  149.620000  \n",
              "1     0.101288 -0.339846  0.167170  0.125895 -0.008983  0.014724    2.690000  \n",
              "2     0.909412 -0.689281 -0.327642 -0.139097 -0.055353 -0.059752  378.660000  \n",
              "3    -0.190321 -1.175575  0.647376 -0.221929  0.062723  0.061458  123.500000  \n",
              "4    -0.137458  0.141267 -0.206010  0.502292  0.219422  0.215153   69.990000  \n",
              "...        ...       ...       ...       ...       ...       ...         ...  \n",
              "1521 -0.036394  0.361105  0.293441 -0.138847 -0.057184 -0.035724    1.166626  \n",
              "1522  0.192826 -0.116463  0.052467  0.387947 -0.061412 -0.046407    1.370413  \n",
              "1523  0.761594 -0.038423  0.321655 -0.261357 -0.197002 -0.024972  330.467791  \n",
              "1524 -0.370476  0.349996  0.202955 -0.110917  0.094027 -0.135272    0.457116  \n",
              "1525  0.278746 -0.814429 -0.198355  0.815857 -0.123929 -0.169504    1.482827  \n",
              "\n",
              "[1526 rows x 30 columns]"
            ]
          },
          "execution_count": 8,
          "metadata": {},
          "output_type": "execute_result"
        }
      ],
      "source": [
        "x_res"
      ]
    },
    {
      "cell_type": "code",
      "execution_count": null,
      "metadata": {
        "id": "huACzugmkJWx"
      },
      "outputs": [],
      "source": [
        "x_res['Class']=y_res"
      ]
    },
    {
      "cell_type": "code",
      "execution_count": null,
      "metadata": {
        "colab": {
          "base_uri": "https://localhost:8080/",
          "height": 488
        },
        "id": "aDZg3-DJkQF9",
        "outputId": "18481ea3-3883-4525-efdc-f09e39f29ad1"
      },
      "outputs": [
        {
          "data": {
            "text/html": [
              "\n",
              "  <div id=\"df-71aa0984-c34d-44cc-a226-85fa27a99754\">\n",
              "    <div class=\"colab-df-container\">\n",
              "      <div>\n",
              "<style scoped>\n",
              "    .dataframe tbody tr th:only-of-type {\n",
              "        vertical-align: middle;\n",
              "    }\n",
              "\n",
              "    .dataframe tbody tr th {\n",
              "        vertical-align: top;\n",
              "    }\n",
              "\n",
              "    .dataframe thead th {\n",
              "        text-align: right;\n",
              "    }\n",
              "</style>\n",
              "<table border=\"1\" class=\"dataframe\">\n",
              "  <thead>\n",
              "    <tr style=\"text-align: right;\">\n",
              "      <th></th>\n",
              "      <th>Time</th>\n",
              "      <th>V1</th>\n",
              "      <th>V2</th>\n",
              "      <th>V3</th>\n",
              "      <th>V4</th>\n",
              "      <th>V5</th>\n",
              "      <th>V6</th>\n",
              "      <th>V7</th>\n",
              "      <th>V8</th>\n",
              "      <th>V9</th>\n",
              "      <th>...</th>\n",
              "      <th>V21</th>\n",
              "      <th>V22</th>\n",
              "      <th>V23</th>\n",
              "      <th>V24</th>\n",
              "      <th>V25</th>\n",
              "      <th>V26</th>\n",
              "      <th>V27</th>\n",
              "      <th>V28</th>\n",
              "      <th>Amount</th>\n",
              "      <th>Class</th>\n",
              "    </tr>\n",
              "  </thead>\n",
              "  <tbody>\n",
              "    <tr>\n",
              "      <th>0</th>\n",
              "      <td>0</td>\n",
              "      <td>-1.359807</td>\n",
              "      <td>-0.072781</td>\n",
              "      <td>2.536347</td>\n",
              "      <td>1.378155</td>\n",
              "      <td>-0.338321</td>\n",
              "      <td>0.462388</td>\n",
              "      <td>0.239599</td>\n",
              "      <td>0.098698</td>\n",
              "      <td>0.363787</td>\n",
              "      <td>...</td>\n",
              "      <td>-0.018307</td>\n",
              "      <td>0.277838</td>\n",
              "      <td>-0.110474</td>\n",
              "      <td>0.066928</td>\n",
              "      <td>0.128539</td>\n",
              "      <td>-0.189115</td>\n",
              "      <td>0.133558</td>\n",
              "      <td>-0.021053</td>\n",
              "      <td>149.620000</td>\n",
              "      <td>0</td>\n",
              "    </tr>\n",
              "    <tr>\n",
              "      <th>1</th>\n",
              "      <td>0</td>\n",
              "      <td>1.191857</td>\n",
              "      <td>0.266151</td>\n",
              "      <td>0.166480</td>\n",
              "      <td>0.448154</td>\n",
              "      <td>0.060018</td>\n",
              "      <td>-0.082361</td>\n",
              "      <td>-0.078803</td>\n",
              "      <td>0.085102</td>\n",
              "      <td>-0.255425</td>\n",
              "      <td>...</td>\n",
              "      <td>-0.225775</td>\n",
              "      <td>-0.638672</td>\n",
              "      <td>0.101288</td>\n",
              "      <td>-0.339846</td>\n",
              "      <td>0.167170</td>\n",
              "      <td>0.125895</td>\n",
              "      <td>-0.008983</td>\n",
              "      <td>0.014724</td>\n",
              "      <td>2.690000</td>\n",
              "      <td>1</td>\n",
              "    </tr>\n",
              "    <tr>\n",
              "      <th>2</th>\n",
              "      <td>1</td>\n",
              "      <td>-1.358354</td>\n",
              "      <td>-1.340163</td>\n",
              "      <td>1.773209</td>\n",
              "      <td>0.379780</td>\n",
              "      <td>-0.503198</td>\n",
              "      <td>1.800499</td>\n",
              "      <td>0.791461</td>\n",
              "      <td>0.247676</td>\n",
              "      <td>-1.514654</td>\n",
              "      <td>...</td>\n",
              "      <td>0.247998</td>\n",
              "      <td>0.771679</td>\n",
              "      <td>0.909412</td>\n",
              "      <td>-0.689281</td>\n",
              "      <td>-0.327642</td>\n",
              "      <td>-0.139097</td>\n",
              "      <td>-0.055353</td>\n",
              "      <td>-0.059752</td>\n",
              "      <td>378.660000</td>\n",
              "      <td>0</td>\n",
              "    </tr>\n",
              "    <tr>\n",
              "      <th>3</th>\n",
              "      <td>1</td>\n",
              "      <td>-0.966272</td>\n",
              "      <td>-0.185226</td>\n",
              "      <td>1.792993</td>\n",
              "      <td>-0.863291</td>\n",
              "      <td>-0.010309</td>\n",
              "      <td>1.247203</td>\n",
              "      <td>0.237609</td>\n",
              "      <td>0.377436</td>\n",
              "      <td>-1.387024</td>\n",
              "      <td>...</td>\n",
              "      <td>-0.108300</td>\n",
              "      <td>0.005274</td>\n",
              "      <td>-0.190321</td>\n",
              "      <td>-1.175575</td>\n",
              "      <td>0.647376</td>\n",
              "      <td>-0.221929</td>\n",
              "      <td>0.062723</td>\n",
              "      <td>0.061458</td>\n",
              "      <td>123.500000</td>\n",
              "      <td>0</td>\n",
              "    </tr>\n",
              "    <tr>\n",
              "      <th>4</th>\n",
              "      <td>2</td>\n",
              "      <td>-1.158233</td>\n",
              "      <td>0.877737</td>\n",
              "      <td>1.548718</td>\n",
              "      <td>0.403034</td>\n",
              "      <td>-0.407193</td>\n",
              "      <td>0.095921</td>\n",
              "      <td>0.592941</td>\n",
              "      <td>-0.270533</td>\n",
              "      <td>0.817739</td>\n",
              "      <td>...</td>\n",
              "      <td>-0.009431</td>\n",
              "      <td>0.798278</td>\n",
              "      <td>-0.137458</td>\n",
              "      <td>0.141267</td>\n",
              "      <td>-0.206010</td>\n",
              "      <td>0.502292</td>\n",
              "      <td>0.219422</td>\n",
              "      <td>0.215153</td>\n",
              "      <td>69.990000</td>\n",
              "      <td>0</td>\n",
              "    </tr>\n",
              "    <tr>\n",
              "      <th>...</th>\n",
              "      <td>...</td>\n",
              "      <td>...</td>\n",
              "      <td>...</td>\n",
              "      <td>...</td>\n",
              "      <td>...</td>\n",
              "      <td>...</td>\n",
              "      <td>...</td>\n",
              "      <td>...</td>\n",
              "      <td>...</td>\n",
              "      <td>...</td>\n",
              "      <td>...</td>\n",
              "      <td>...</td>\n",
              "      <td>...</td>\n",
              "      <td>...</td>\n",
              "      <td>...</td>\n",
              "      <td>...</td>\n",
              "      <td>...</td>\n",
              "      <td>...</td>\n",
              "      <td>...</td>\n",
              "      <td>...</td>\n",
              "      <td>...</td>\n",
              "    </tr>\n",
              "    <tr>\n",
              "      <th>1521</th>\n",
              "      <td>535</td>\n",
              "      <td>0.327819</td>\n",
              "      <td>0.378972</td>\n",
              "      <td>0.917073</td>\n",
              "      <td>0.474536</td>\n",
              "      <td>0.205549</td>\n",
              "      <td>-0.996657</td>\n",
              "      <td>0.428123</td>\n",
              "      <td>-0.187451</td>\n",
              "      <td>-0.052155</td>\n",
              "      <td>...</td>\n",
              "      <td>-0.136592</td>\n",
              "      <td>-0.351823</td>\n",
              "      <td>-0.036394</td>\n",
              "      <td>0.361105</td>\n",
              "      <td>0.293441</td>\n",
              "      <td>-0.138847</td>\n",
              "      <td>-0.057184</td>\n",
              "      <td>-0.035724</td>\n",
              "      <td>1.166626</td>\n",
              "      <td>1</td>\n",
              "    </tr>\n",
              "    <tr>\n",
              "      <th>1522</th>\n",
              "      <td>556</td>\n",
              "      <td>0.010063</td>\n",
              "      <td>-0.730491</td>\n",
              "      <td>1.134112</td>\n",
              "      <td>0.862727</td>\n",
              "      <td>0.721961</td>\n",
              "      <td>-0.431170</td>\n",
              "      <td>-0.749853</td>\n",
              "      <td>0.172099</td>\n",
              "      <td>0.376065</td>\n",
              "      <td>...</td>\n",
              "      <td>-0.015249</td>\n",
              "      <td>-0.048676</td>\n",
              "      <td>0.192826</td>\n",
              "      <td>-0.116463</td>\n",
              "      <td>0.052467</td>\n",
              "      <td>0.387947</td>\n",
              "      <td>-0.061412</td>\n",
              "      <td>-0.046407</td>\n",
              "      <td>1.370413</td>\n",
              "      <td>1</td>\n",
              "    </tr>\n",
              "    <tr>\n",
              "      <th>1523</th>\n",
              "      <td>476</td>\n",
              "      <td>-2.248113</td>\n",
              "      <td>-1.820410</td>\n",
              "      <td>1.333871</td>\n",
              "      <td>1.496782</td>\n",
              "      <td>1.211877</td>\n",
              "      <td>-1.003225</td>\n",
              "      <td>0.533673</td>\n",
              "      <td>-0.101182</td>\n",
              "      <td>-0.222510</td>\n",
              "      <td>...</td>\n",
              "      <td>0.437842</td>\n",
              "      <td>0.377535</td>\n",
              "      <td>0.761594</td>\n",
              "      <td>-0.038423</td>\n",
              "      <td>0.321655</td>\n",
              "      <td>-0.261357</td>\n",
              "      <td>-0.197002</td>\n",
              "      <td>-0.024972</td>\n",
              "      <td>330.467791</td>\n",
              "      <td>1</td>\n",
              "    </tr>\n",
              "    <tr>\n",
              "      <th>1524</th>\n",
              "      <td>441</td>\n",
              "      <td>-1.679515</td>\n",
              "      <td>1.241726</td>\n",
              "      <td>-0.078063</td>\n",
              "      <td>2.253902</td>\n",
              "      <td>0.158263</td>\n",
              "      <td>-1.186312</td>\n",
              "      <td>-0.975695</td>\n",
              "      <td>0.683929</td>\n",
              "      <td>-1.568801</td>\n",
              "      <td>...</td>\n",
              "      <td>0.311128</td>\n",
              "      <td>0.109594</td>\n",
              "      <td>-0.370476</td>\n",
              "      <td>0.349996</td>\n",
              "      <td>0.202955</td>\n",
              "      <td>-0.110917</td>\n",
              "      <td>0.094027</td>\n",
              "      <td>-0.135272</td>\n",
              "      <td>0.457116</td>\n",
              "      <td>1</td>\n",
              "    </tr>\n",
              "    <tr>\n",
              "      <th>1525</th>\n",
              "      <td>527</td>\n",
              "      <td>-1.963731</td>\n",
              "      <td>-2.396095</td>\n",
              "      <td>2.442212</td>\n",
              "      <td>1.107170</td>\n",
              "      <td>2.410640</td>\n",
              "      <td>0.542904</td>\n",
              "      <td>-2.007513</td>\n",
              "      <td>0.755891</td>\n",
              "      <td>0.920996</td>\n",
              "      <td>...</td>\n",
              "      <td>0.410221</td>\n",
              "      <td>1.164000</td>\n",
              "      <td>0.278746</td>\n",
              "      <td>-0.814429</td>\n",
              "      <td>-0.198355</td>\n",
              "      <td>0.815857</td>\n",
              "      <td>-0.123929</td>\n",
              "      <td>-0.169504</td>\n",
              "      <td>1.482827</td>\n",
              "      <td>1</td>\n",
              "    </tr>\n",
              "  </tbody>\n",
              "</table>\n",
              "<p>1526 rows × 31 columns</p>\n",
              "</div>\n",
              "      <button class=\"colab-df-convert\" onclick=\"convertToInteractive('df-71aa0984-c34d-44cc-a226-85fa27a99754')\"\n",
              "              title=\"Convert this dataframe to an interactive table.\"\n",
              "              style=\"display:none;\">\n",
              "        \n",
              "  <svg xmlns=\"http://www.w3.org/2000/svg\" height=\"24px\"viewBox=\"0 0 24 24\"\n",
              "       width=\"24px\">\n",
              "    <path d=\"M0 0h24v24H0V0z\" fill=\"none\"/>\n",
              "    <path d=\"M18.56 5.44l.94 2.06.94-2.06 2.06-.94-2.06-.94-.94-2.06-.94 2.06-2.06.94zm-11 1L8.5 8.5l.94-2.06 2.06-.94-2.06-.94L8.5 2.5l-.94 2.06-2.06.94zm10 10l.94 2.06.94-2.06 2.06-.94-2.06-.94-.94-2.06-.94 2.06-2.06.94z\"/><path d=\"M17.41 7.96l-1.37-1.37c-.4-.4-.92-.59-1.43-.59-.52 0-1.04.2-1.43.59L10.3 9.45l-7.72 7.72c-.78.78-.78 2.05 0 2.83L4 21.41c.39.39.9.59 1.41.59.51 0 1.02-.2 1.41-.59l7.78-7.78 2.81-2.81c.8-.78.8-2.07 0-2.86zM5.41 20L4 18.59l7.72-7.72 1.47 1.35L5.41 20z\"/>\n",
              "  </svg>\n",
              "      </button>\n",
              "      \n",
              "  <style>\n",
              "    .colab-df-container {\n",
              "      display:flex;\n",
              "      flex-wrap:wrap;\n",
              "      gap: 12px;\n",
              "    }\n",
              "\n",
              "    .colab-df-convert {\n",
              "      background-color: #E8F0FE;\n",
              "      border: none;\n",
              "      border-radius: 50%;\n",
              "      cursor: pointer;\n",
              "      display: none;\n",
              "      fill: #1967D2;\n",
              "      height: 32px;\n",
              "      padding: 0 0 0 0;\n",
              "      width: 32px;\n",
              "    }\n",
              "\n",
              "    .colab-df-convert:hover {\n",
              "      background-color: #E2EBFA;\n",
              "      box-shadow: 0px 1px 2px rgba(60, 64, 67, 0.3), 0px 1px 3px 1px rgba(60, 64, 67, 0.15);\n",
              "      fill: #174EA6;\n",
              "    }\n",
              "\n",
              "    [theme=dark] .colab-df-convert {\n",
              "      background-color: #3B4455;\n",
              "      fill: #D2E3FC;\n",
              "    }\n",
              "\n",
              "    [theme=dark] .colab-df-convert:hover {\n",
              "      background-color: #434B5C;\n",
              "      box-shadow: 0px 1px 3px 1px rgba(0, 0, 0, 0.15);\n",
              "      filter: drop-shadow(0px 1px 2px rgba(0, 0, 0, 0.3));\n",
              "      fill: #FFFFFF;\n",
              "    }\n",
              "  </style>\n",
              "\n",
              "      <script>\n",
              "        const buttonEl =\n",
              "          document.querySelector('#df-71aa0984-c34d-44cc-a226-85fa27a99754 button.colab-df-convert');\n",
              "        buttonEl.style.display =\n",
              "          google.colab.kernel.accessAllowed ? 'block' : 'none';\n",
              "\n",
              "        async function convertToInteractive(key) {\n",
              "          const element = document.querySelector('#df-71aa0984-c34d-44cc-a226-85fa27a99754');\n",
              "          const dataTable =\n",
              "            await google.colab.kernel.invokeFunction('convertToInteractive',\n",
              "                                                     [key], {});\n",
              "          if (!dataTable) return;\n",
              "\n",
              "          const docLinkHtml = 'Like what you see? Visit the ' +\n",
              "            '<a target=\"_blank\" href=https://colab.research.google.com/notebooks/data_table.ipynb>data table notebook</a>'\n",
              "            + ' to learn more about interactive tables.';\n",
              "          element.innerHTML = '';\n",
              "          dataTable['output_type'] = 'display_data';\n",
              "          await google.colab.output.renderOutput(dataTable, element);\n",
              "          const docLink = document.createElement('div');\n",
              "          docLink.innerHTML = docLinkHtml;\n",
              "          element.appendChild(docLink);\n",
              "        }\n",
              "      </script>\n",
              "    </div>\n",
              "  </div>\n",
              "  "
            ],
            "text/plain": [
              "      Time        V1        V2        V3        V4        V5        V6  \\\n",
              "0        0 -1.359807 -0.072781  2.536347  1.378155 -0.338321  0.462388   \n",
              "1        0  1.191857  0.266151  0.166480  0.448154  0.060018 -0.082361   \n",
              "2        1 -1.358354 -1.340163  1.773209  0.379780 -0.503198  1.800499   \n",
              "3        1 -0.966272 -0.185226  1.792993 -0.863291 -0.010309  1.247203   \n",
              "4        2 -1.158233  0.877737  1.548718  0.403034 -0.407193  0.095921   \n",
              "...    ...       ...       ...       ...       ...       ...       ...   \n",
              "1521   535  0.327819  0.378972  0.917073  0.474536  0.205549 -0.996657   \n",
              "1522   556  0.010063 -0.730491  1.134112  0.862727  0.721961 -0.431170   \n",
              "1523   476 -2.248113 -1.820410  1.333871  1.496782  1.211877 -1.003225   \n",
              "1524   441 -1.679515  1.241726 -0.078063  2.253902  0.158263 -1.186312   \n",
              "1525   527 -1.963731 -2.396095  2.442212  1.107170  2.410640  0.542904   \n",
              "\n",
              "            V7        V8        V9  ...       V21       V22       V23  \\\n",
              "0     0.239599  0.098698  0.363787  ... -0.018307  0.277838 -0.110474   \n",
              "1    -0.078803  0.085102 -0.255425  ... -0.225775 -0.638672  0.101288   \n",
              "2     0.791461  0.247676 -1.514654  ...  0.247998  0.771679  0.909412   \n",
              "3     0.237609  0.377436 -1.387024  ... -0.108300  0.005274 -0.190321   \n",
              "4     0.592941 -0.270533  0.817739  ... -0.009431  0.798278 -0.137458   \n",
              "...        ...       ...       ...  ...       ...       ...       ...   \n",
              "1521  0.428123 -0.187451 -0.052155  ... -0.136592 -0.351823 -0.036394   \n",
              "1522 -0.749853  0.172099  0.376065  ... -0.015249 -0.048676  0.192826   \n",
              "1523  0.533673 -0.101182 -0.222510  ...  0.437842  0.377535  0.761594   \n",
              "1524 -0.975695  0.683929 -1.568801  ...  0.311128  0.109594 -0.370476   \n",
              "1525 -2.007513  0.755891  0.920996  ...  0.410221  1.164000  0.278746   \n",
              "\n",
              "           V24       V25       V26       V27       V28      Amount  Class  \n",
              "0     0.066928  0.128539 -0.189115  0.133558 -0.021053  149.620000      0  \n",
              "1    -0.339846  0.167170  0.125895 -0.008983  0.014724    2.690000      1  \n",
              "2    -0.689281 -0.327642 -0.139097 -0.055353 -0.059752  378.660000      0  \n",
              "3    -1.175575  0.647376 -0.221929  0.062723  0.061458  123.500000      0  \n",
              "4     0.141267 -0.206010  0.502292  0.219422  0.215153   69.990000      0  \n",
              "...        ...       ...       ...       ...       ...         ...    ...  \n",
              "1521  0.361105  0.293441 -0.138847 -0.057184 -0.035724    1.166626      1  \n",
              "1522 -0.116463  0.052467  0.387947 -0.061412 -0.046407    1.370413      1  \n",
              "1523 -0.038423  0.321655 -0.261357 -0.197002 -0.024972  330.467791      1  \n",
              "1524  0.349996  0.202955 -0.110917  0.094027 -0.135272    0.457116      1  \n",
              "1525 -0.814429 -0.198355  0.815857 -0.123929 -0.169504    1.482827      1  \n",
              "\n",
              "[1526 rows x 31 columns]"
            ]
          },
          "execution_count": 10,
          "metadata": {},
          "output_type": "execute_result"
        }
      ],
      "source": [
        "x_res"
      ]
    },
    {
      "cell_type": "markdown",
      "metadata": {
        "id": "juMOFnETzHAV"
      },
      "source": [
        "RANDOM SAMPLING"
      ]
    },
    {
      "cell_type": "code",
      "execution_count": null,
      "metadata": {
        "id": "DEqna4hojALt"
      },
      "outputs": [],
      "source": [
        "sample_df=x_res.sample(1067)"
      ]
    },
    {
      "cell_type": "code",
      "execution_count": null,
      "metadata": {
        "id": "pOopwoqmo4dP"
      },
      "outputs": [],
      "source": [
        "x=sample_df.iloc[:, sample_df.columns!= 'Class']\n",
        "y=sample_df.iloc[:,sample_df.columns=='Class']"
      ]
    },
    {
      "cell_type": "markdown",
      "metadata": {
        "id": "mmhG-skFgndc"
      },
      "source": [
        "Splitting the data in test and train data"
      ]
    },
    {
      "cell_type": "code",
      "execution_count": null,
      "metadata": {
        "id": "9A20j0t_fFCM"
      },
      "outputs": [],
      "source": [
        "from sklearn.model_selection import train_test_split\n",
        "x_train, x_test, y_train, y_test = train_test_split(x, y, test_size = 0.20, random_state = 0)"
      ]
    },
    {
      "cell_type": "markdown",
      "metadata": {
        "id": "9r3M1rWFgrde"
      },
      "source": [
        "Using Naive Bayes algorithm"
      ]
    },
    {
      "cell_type": "code",
      "execution_count": null,
      "metadata": {
        "colab": {
          "base_uri": "https://localhost:8080/"
        },
        "id": "LzfIxfYwfyuf",
        "outputId": "b8e00d35-5504-40da-faf3-eb86ecb0c95f"
      },
      "outputs": [
        {
          "name": "stderr",
          "output_type": "stream",
          "text": [
            "/usr/local/lib/python3.8/dist-packages/sklearn/utils/validation.py:993: DataConversionWarning: A column-vector y was passed when a 1d array was expected. Please change the shape of y to (n_samples, ), for example using ravel().\n",
            "  y = column_or_1d(y, warn=True)\n"
          ]
        },
        {
          "data": {
            "text/plain": [
              "GaussianNB()"
            ]
          },
          "execution_count": 14,
          "metadata": {},
          "output_type": "execute_result"
        }
      ],
      "source": [
        "from sklearn.naive_bayes import GaussianNB\n",
        "classifier = GaussianNB()\n",
        "classifier.fit(x_train, y_train)"
      ]
    },
    {
      "cell_type": "code",
      "execution_count": null,
      "metadata": {
        "colab": {
          "base_uri": "https://localhost:8080/"
        },
        "id": "wbpy7MIDf7pr",
        "outputId": "aa6ade66-fc3d-4b5e-db91-96533f03435e"
      },
      "outputs": [
        {
          "name": "stdout",
          "output_type": "stream",
          "text": [
            "[1 1 1 1 1 1 1 1 1 0 0 0 1 1 1 1 0 0 0 0 1 1 0 1 1 0 1 1 1 1 0 1 0 0 1 1 0\n",
            " 0 0 1 0 1 1 0 1 0 0 0 0 1 1 1 0 0 0 1 0 1 1 1 0 1 1 0 1 0 0 0 1 1 1 1 1 0\n",
            " 1 1 0 0 1 1 0 1 1 1 1 1 0 1 0 0 0 1 1 1 1 0 0 0 1 1 1 1 0 0 1 1 1 0 0 0 1\n",
            " 1 1 0 0 0 1 1 1 1 1 1 1 1 1 0 0 0 1 0 1 1 0 0 0 1 1 1 0 0 1 0 0 0 0 0 0 1\n",
            " 0 0 1 1 0 1 0 0 0 0 1 1 0 1 0 1 0 0 1 1 0 0 0 0 0 1 1 1 0 0 1 0 1 1 1 0 1\n",
            " 0 1 0 0 0 1 0 1 0 1 1 1 0 1 0 1 0 0 1 0 1 0 0 0 1 0 1 0 0]\n"
          ]
        }
      ],
      "source": [
        "y_pred  =  classifier.predict(x_test)\n",
        "print(y_pred)"
      ]
    },
    {
      "cell_type": "code",
      "execution_count": null,
      "metadata": {
        "colab": {
          "base_uri": "https://localhost:8080/"
        },
        "id": "qa5XEaj8gCem",
        "outputId": "89303900-c253-4068-9e04-40fdcef6491c"
      },
      "outputs": [
        {
          "name": "stdout",
          "output_type": "stream",
          "text": [
            "0.8551401869158879\n"
          ]
        }
      ],
      "source": [
        "from sklearn.metrics import accuracy_score\n",
        "score=accuracy_score(y_pred,y_test)\n",
        "print(score)"
      ]
    },
    {
      "cell_type": "code",
      "execution_count": null,
      "metadata": {
        "id": "3pyYbYRWgwjL"
      },
      "outputs": [],
      "source": [
        "from sklearn.ensemble import RandomForestClassifier"
      ]
    },
    {
      "cell_type": "markdown",
      "metadata": {
        "id": "7BBHkqZLzNVK"
      },
      "source": [
        "Random Forest Classifier"
      ]
    },
    {
      "cell_type": "code",
      "execution_count": null,
      "metadata": {
        "colab": {
          "base_uri": "https://localhost:8080/"
        },
        "id": "M9Vvro2jn3Le",
        "outputId": "fcaf13b0-5909-4d3c-bc2b-79e9615b3d4c"
      },
      "outputs": [
        {
          "name": "stderr",
          "output_type": "stream",
          "text": [
            "<ipython-input-18-ce55d9827ec2>:2: DataConversionWarning: A column-vector y was passed when a 1d array was expected. Please change the shape of y to (n_samples,), for example using ravel().\n",
            "  rf.fit(x_train, y_train)\n"
          ]
        },
        {
          "data": {
            "text/plain": [
              "RandomForestClassifier()"
            ]
          },
          "execution_count": 18,
          "metadata": {},
          "output_type": "execute_result"
        }
      ],
      "source": [
        "rf = RandomForestClassifier()\n",
        "rf.fit(x_train, y_train)"
      ]
    },
    {
      "cell_type": "code",
      "execution_count": null,
      "metadata": {
        "colab": {
          "base_uri": "https://localhost:8080/"
        },
        "id": "dfC4TGB2oB_b",
        "outputId": "17295848-846c-45f4-af93-a5a73fc100c4"
      },
      "outputs": [
        {
          "name": "stdout",
          "output_type": "stream",
          "text": [
            "[1 1 1 1 0 1 0 1 1 0 0 0 1 1 0 1 0 0 1 0 0 1 0 1 1 0 1 1 1 1 0 0 0 0 1 1 0\n",
            " 0 0 1 0 1 1 1 1 0 0 1 0 1 1 0 0 0 0 1 0 1 0 1 0 1 0 0 1 0 0 0 1 1 1 1 1 0\n",
            " 1 1 0 0 1 1 0 0 1 1 1 0 0 1 0 0 0 1 1 0 0 0 1 0 1 1 1 1 0 0 1 1 1 0 0 0 1\n",
            " 1 0 0 0 0 1 0 0 0 1 1 0 1 1 0 0 0 1 0 1 1 0 0 0 1 1 1 0 1 1 0 0 0 0 0 0 0\n",
            " 0 0 1 0 0 1 0 0 0 1 1 1 0 1 0 1 0 0 1 1 0 0 0 0 0 1 1 1 0 0 1 0 1 0 1 0 1\n",
            " 0 1 0 0 0 1 1 1 0 1 1 1 0 1 0 1 0 0 1 0 1 0 0 0 1 0 0 0 0]\n"
          ]
        }
      ],
      "source": [
        "y_pred2  =  rf.predict(x_test)\n",
        "print(y_pred2)"
      ]
    },
    {
      "cell_type": "code",
      "execution_count": null,
      "metadata": {
        "colab": {
          "base_uri": "https://localhost:8080/"
        },
        "id": "_8kNLxbNoGu8",
        "outputId": "7dbca602-08fb-49b5-8b22-d74efb2fcece"
      },
      "outputs": [
        {
          "name": "stdout",
          "output_type": "stream",
          "text": [
            "0.985981308411215\n"
          ]
        }
      ],
      "source": [
        "score2=accuracy_score(y_pred2,y_test)\n",
        "print(score2)"
      ]
    },
    {
      "cell_type": "markdown",
      "metadata": {
        "id": "3Wc_fsBRzU9w"
      },
      "source": [
        "Logistic Regression"
      ]
    },
    {
      "cell_type": "code",
      "execution_count": null,
      "metadata": {
        "colab": {
          "base_uri": "https://localhost:8080/"
        },
        "id": "ZQ5SaPkHp3iO",
        "outputId": "d73db501-1cfc-4985-ee2d-2218175c440b"
      },
      "outputs": [
        {
          "name": "stderr",
          "output_type": "stream",
          "text": [
            "/usr/local/lib/python3.8/dist-packages/sklearn/utils/validation.py:993: DataConversionWarning: A column-vector y was passed when a 1d array was expected. Please change the shape of y to (n_samples, ), for example using ravel().\n",
            "  y = column_or_1d(y, warn=True)\n",
            "/usr/local/lib/python3.8/dist-packages/sklearn/linear_model/_logistic.py:814: ConvergenceWarning: lbfgs failed to converge (status=1):\n",
            "STOP: TOTAL NO. of ITERATIONS REACHED LIMIT.\n",
            "\n",
            "Increase the number of iterations (max_iter) or scale the data as shown in:\n",
            "    https://scikit-learn.org/stable/modules/preprocessing.html\n",
            "Please also refer to the documentation for alternative solver options:\n",
            "    https://scikit-learn.org/stable/modules/linear_model.html#logistic-regression\n",
            "  n_iter_i = _check_optimize_result(\n"
          ]
        }
      ],
      "source": [
        "from sklearn import linear_model\n",
        "logr = linear_model.LogisticRegression()\n",
        "logr.fit(x_train, y_train)\n",
        "logr_pred = logr.predict(x_test)"
      ]
    },
    {
      "cell_type": "code",
      "execution_count": null,
      "metadata": {
        "colab": {
          "base_uri": "https://localhost:8080/"
        },
        "id": "i4o3BMi5p8BA",
        "outputId": "ba6d86da-f0d5-4a48-d624-fec357cd3e36"
      },
      "outputs": [
        {
          "name": "stdout",
          "output_type": "stream",
          "text": [
            "0.9392523364485982\n"
          ]
        }
      ],
      "source": [
        "score3=accuracy_score(logr_pred,y_test)\n",
        "print(score3)"
      ]
    },
    {
      "cell_type": "markdown",
      "metadata": {
        "id": "uzfrB0Nh0oXZ"
      },
      "source": [
        "Decision tree classifier"
      ]
    },
    {
      "cell_type": "code",
      "execution_count": null,
      "metadata": {
        "id": "WfftpjL9qG7d"
      },
      "outputs": [],
      "source": [
        "from sklearn.tree import DecisionTreeClassifier\n",
        "clf = DecisionTreeClassifier()\n",
        "clf = clf.fit(x_train,y_train)\n",
        "y_pred3 = clf.predict(x_test)"
      ]
    },
    {
      "cell_type": "code",
      "execution_count": null,
      "metadata": {
        "colab": {
          "base_uri": "https://localhost:8080/"
        },
        "id": "4Wp6LwtAsAW7",
        "outputId": "3d34dba7-8c2f-4a23-9d5a-e85bca5dfa15"
      },
      "outputs": [
        {
          "name": "stdout",
          "output_type": "stream",
          "text": [
            "0.9766355140186916\n"
          ]
        }
      ],
      "source": [
        "score4=accuracy_score(y_pred3,y_test)\n",
        "print(score4)"
      ]
    },
    {
      "cell_type": "markdown",
      "metadata": {
        "id": "AUvD8yKh0sgG"
      },
      "source": [
        "KNN"
      ]
    },
    {
      "cell_type": "code",
      "execution_count": null,
      "metadata": {
        "colab": {
          "base_uri": "https://localhost:8080/"
        },
        "id": "Iq47DC4ismgr",
        "outputId": "a4851d7d-fdcb-4d8d-a77d-c58af1691d2d"
      },
      "outputs": [
        {
          "name": "stderr",
          "output_type": "stream",
          "text": [
            "/usr/local/lib/python3.8/dist-packages/sklearn/neighbors/_classification.py:198: DataConversionWarning: A column-vector y was passed when a 1d array was expected. Please change the shape of y to (n_samples,), for example using ravel().\n",
            "  return self._fit(X, y)\n"
          ]
        },
        {
          "data": {
            "text/plain": [
              "KNeighborsClassifier(n_neighbors=7)"
            ]
          },
          "execution_count": 25,
          "metadata": {},
          "output_type": "execute_result"
        }
      ],
      "source": [
        "from sklearn.neighbors import KNeighborsClassifier\n",
        "knn = KNeighborsClassifier(n_neighbors=7)\n",
        "knn.fit(x_train, y_train)"
      ]
    },
    {
      "cell_type": "code",
      "execution_count": null,
      "metadata": {
        "id": "aMuBts1dssf5"
      },
      "outputs": [],
      "source": [
        "pred4=knn.predict(x_test)"
      ]
    },
    {
      "cell_type": "code",
      "execution_count": null,
      "metadata": {
        "colab": {
          "base_uri": "https://localhost:8080/"
        },
        "id": "ZWDdwReItD2m",
        "outputId": "736fd77c-8f67-4499-9650-c10f97657889"
      },
      "outputs": [
        {
          "name": "stdout",
          "output_type": "stream",
          "text": [
            "0.7897196261682243\n"
          ]
        }
      ],
      "source": [
        "score5=accuracy_score(pred4,y_test)\n",
        "print(score5)"
      ]
    },
    {
      "cell_type": "markdown",
      "metadata": {
        "id": "7FCumYAh0vMs"
      },
      "source": [
        "Storing all accuracies in a list"
      ]
    },
    {
      "cell_type": "code",
      "execution_count": null,
      "metadata": {
        "colab": {
          "base_uri": "https://localhost:8080/"
        },
        "id": "ZGV27yZLv3y6",
        "outputId": "6cce28e9-c097-43d3-9c52-4fcf206febed"
      },
      "outputs": [
        {
          "data": {
            "text/plain": [
              "[0.8551401869158879,\n",
              " 0.985981308411215,\n",
              " 0.9392523364485982,\n",
              " 0.9766355140186916,\n",
              " 0.7897196261682243]"
            ]
          },
          "execution_count": 28,
          "metadata": {},
          "output_type": "execute_result"
        }
      ],
      "source": [
        "simple_sampling=[score,score2,score3,score4,score5]\n",
        "simple_sampling"
      ]
    },
    {
      "cell_type": "markdown",
      "metadata": {
        "id": "_c-hj2xGMY1e"
      },
      "source": [
        "STRATIFIED SAMPLING"
      ]
    },
    {
      "cell_type": "code",
      "execution_count": null,
      "metadata": {
        "id": "7s0CAaDEwXAc"
      },
      "outputs": [],
      "source": [
        "strat=x_res.groupby('Class', group_keys=False).apply(lambda x: x.sample(392,replace=True))"
      ]
    },
    {
      "cell_type": "code",
      "execution_count": null,
      "metadata": {
        "id": "UN-qYuL_xPR5"
      },
      "outputs": [],
      "source": [
        "x=strat.iloc[:, strat.columns!= 'Class']\n",
        "y=strat.iloc[:,strat.columns=='Class']"
      ]
    },
    {
      "cell_type": "code",
      "execution_count": null,
      "metadata": {
        "id": "fuNOLnhXxTJm"
      },
      "outputs": [],
      "source": [
        "from sklearn.model_selection import train_test_split\n",
        "x_train, x_test, y_train, y_test = train_test_split(x, y, test_size = 0.20, random_state = 0)"
      ]
    },
    {
      "cell_type": "markdown",
      "metadata": {
        "id": "QOHS2D-Nx984"
      },
      "source": [
        "Naive Bayes"
      ]
    },
    {
      "cell_type": "code",
      "execution_count": null,
      "metadata": {
        "colab": {
          "base_uri": "https://localhost:8080/"
        },
        "id": "o0245YS0xkGj",
        "outputId": "aff17025-4f2d-4225-d061-dee5cb243ace"
      },
      "outputs": [
        {
          "name": "stderr",
          "output_type": "stream",
          "text": [
            "/usr/local/lib/python3.8/dist-packages/sklearn/utils/validation.py:993: DataConversionWarning: A column-vector y was passed when a 1d array was expected. Please change the shape of y to (n_samples, ), for example using ravel().\n",
            "  y = column_or_1d(y, warn=True)\n"
          ]
        },
        {
          "name": "stdout",
          "output_type": "stream",
          "text": [
            "0.8471337579617835\n"
          ]
        }
      ],
      "source": [
        "classifier = GaussianNB()\n",
        "classifier.fit(x_train, y_train)\n",
        "y_pred6  =  classifier.predict(x_test)\n",
        "score6=accuracy_score(y_pred6,y_test)\n",
        "print(score6)"
      ]
    },
    {
      "cell_type": "markdown",
      "metadata": {
        "id": "ltHjQyrQyAAX"
      },
      "source": [
        "Random forest"
      ]
    },
    {
      "cell_type": "code",
      "execution_count": null,
      "metadata": {
        "colab": {
          "base_uri": "https://localhost:8080/"
        },
        "id": "ccSBpWz8yCv6",
        "outputId": "d1c4c1e6-d03f-4c2e-80b8-a1a808b27266"
      },
      "outputs": [
        {
          "name": "stderr",
          "output_type": "stream",
          "text": [
            "<ipython-input-33-1d3c061d01e8>:2: DataConversionWarning: A column-vector y was passed when a 1d array was expected. Please change the shape of y to (n_samples,), for example using ravel().\n",
            "  rf.fit(x_train, y_train)\n"
          ]
        },
        {
          "name": "stdout",
          "output_type": "stream",
          "text": [
            "0.9936305732484076\n"
          ]
        }
      ],
      "source": [
        "rf = RandomForestClassifier()\n",
        "rf.fit(x_train, y_train)\n",
        "y_pred7  =  rf.predict(x_test)\n",
        "score7=accuracy_score(y_pred7,y_test)\n",
        "print(score7)"
      ]
    },
    {
      "cell_type": "markdown",
      "metadata": {
        "id": "kccgSBLDMdBu"
      },
      "source": [
        "Logistic regression"
      ]
    },
    {
      "cell_type": "code",
      "execution_count": null,
      "metadata": {
        "colab": {
          "base_uri": "https://localhost:8080/"
        },
        "id": "hV4nH2GBy5SH",
        "outputId": "407be019-6149-4184-fa24-67c53241efea"
      },
      "outputs": [
        {
          "name": "stdout",
          "output_type": "stream",
          "text": [
            "0.9299363057324841\n"
          ]
        },
        {
          "name": "stderr",
          "output_type": "stream",
          "text": [
            "/usr/local/lib/python3.8/dist-packages/sklearn/utils/validation.py:993: DataConversionWarning: A column-vector y was passed when a 1d array was expected. Please change the shape of y to (n_samples, ), for example using ravel().\n",
            "  y = column_or_1d(y, warn=True)\n",
            "/usr/local/lib/python3.8/dist-packages/sklearn/linear_model/_logistic.py:814: ConvergenceWarning: lbfgs failed to converge (status=1):\n",
            "STOP: TOTAL NO. of ITERATIONS REACHED LIMIT.\n",
            "\n",
            "Increase the number of iterations (max_iter) or scale the data as shown in:\n",
            "    https://scikit-learn.org/stable/modules/preprocessing.html\n",
            "Please also refer to the documentation for alternative solver options:\n",
            "    https://scikit-learn.org/stable/modules/linear_model.html#logistic-regression\n",
            "  n_iter_i = _check_optimize_result(\n"
          ]
        }
      ],
      "source": [
        "logr = linear_model.LogisticRegression()\n",
        "logr.fit(x_train, y_train)\n",
        "pred8 = logr.predict(x_test)\n",
        "score8=accuracy_score(pred8,y_test)\n",
        "print(score8)"
      ]
    },
    {
      "cell_type": "markdown",
      "metadata": {
        "id": "Dt43xuJgMfSq"
      },
      "source": [
        "Decision Tree Classifier"
      ]
    },
    {
      "cell_type": "code",
      "execution_count": null,
      "metadata": {
        "colab": {
          "base_uri": "https://localhost:8080/"
        },
        "id": "-8CbyrrozNyF",
        "outputId": "112d780b-baaf-4543-b839-2390e008569e"
      },
      "outputs": [
        {
          "name": "stdout",
          "output_type": "stream",
          "text": [
            "0.9681528662420382\n"
          ]
        }
      ],
      "source": [
        "clf = DecisionTreeClassifier()\n",
        "clf = clf.fit(x_train,y_train)\n",
        "y_pred9 = clf.predict(x_test)\n",
        "score9=accuracy_score(y_pred9,y_test)\n",
        "print(score9)"
      ]
    },
    {
      "cell_type": "markdown",
      "metadata": {
        "id": "IkhqM8dBMiS_"
      },
      "source": [
        "KNN"
      ]
    },
    {
      "cell_type": "code",
      "execution_count": null,
      "metadata": {
        "colab": {
          "base_uri": "https://localhost:8080/"
        },
        "id": "zlXJkQqNzhSC",
        "outputId": "9985c53d-129e-4b07-dcd2-530b12cd270f"
      },
      "outputs": [
        {
          "name": "stdout",
          "output_type": "stream",
          "text": [
            "0.8789808917197452\n"
          ]
        },
        {
          "name": "stderr",
          "output_type": "stream",
          "text": [
            "/usr/local/lib/python3.8/dist-packages/sklearn/neighbors/_classification.py:198: DataConversionWarning: A column-vector y was passed when a 1d array was expected. Please change the shape of y to (n_samples,), for example using ravel().\n",
            "  return self._fit(X, y)\n"
          ]
        }
      ],
      "source": [
        "knn = KNeighborsClassifier(n_neighbors=7)\n",
        "knn.fit(x_train, y_train)\n",
        "pred10=knn.predict(x_test)\n",
        "score10=accuracy_score(pred10,y_test)\n",
        "print(score10)"
      ]
    },
    {
      "cell_type": "code",
      "execution_count": null,
      "metadata": {
        "colab": {
          "base_uri": "https://localhost:8080/"
        },
        "id": "X76zwEDCzzBK",
        "outputId": "f229c76a-53d2-4931-cefb-90f586a1ba56"
      },
      "outputs": [
        {
          "data": {
            "text/plain": [
              "[0.8471337579617835,\n",
              " 0.9936305732484076,\n",
              " 0.9299363057324841,\n",
              " 0.9681528662420382,\n",
              " 0.8789808917197452]"
            ]
          },
          "execution_count": 37,
          "metadata": {},
          "output_type": "execute_result"
        }
      ],
      "source": [
        "stratified_sampling=[score6,score7,score8,score9,score10]\n",
        "stratified_sampling"
      ]
    },
    {
      "cell_type": "markdown",
      "metadata": {
        "id": "O9MRTxWzMk9Y"
      },
      "source": [
        "SYSTEMATIC SAMPLING"
      ]
    },
    {
      "cell_type": "code",
      "execution_count": null,
      "metadata": {
        "id": "dAjsMZKbOgRh"
      },
      "outputs": [],
      "source": [
        "def systematic_sampling(df, step):\n",
        "    indexes = np.arange(0, len(df), step=step)\n",
        "    systematic_sample = df.iloc[indexes]\n",
        "    return systematic_sample\n",
        "data = systematic_sampling(x_res, 2)"
      ]
    },
    {
      "cell_type": "code",
      "execution_count": null,
      "metadata": {
        "id": "tZwgDX5rPE88"
      },
      "outputs": [],
      "source": [
        "x = data.iloc[:,data.columns!='Class']\n",
        "y = data.iloc[:,data.columns=='Class']"
      ]
    },
    {
      "cell_type": "code",
      "execution_count": null,
      "metadata": {
        "id": "IqL-KEEuPU_o"
      },
      "outputs": [],
      "source": [
        "from sklearn.model_selection import train_test_split\n",
        "x_train, x_test, y_train, y_test = train_test_split(x, y, test_size = 0.20, random_state = 0)"
      ]
    },
    {
      "cell_type": "markdown",
      "metadata": {
        "id": "jZyRO6KIPlHF"
      },
      "source": [
        "Naive Bayes"
      ]
    },
    {
      "cell_type": "code",
      "execution_count": null,
      "metadata": {
        "colab": {
          "base_uri": "https://localhost:8080/"
        },
        "id": "TwDhlgggPgii",
        "outputId": "0ef7efbd-09f4-4dec-a759-53f1dad4ab2e"
      },
      "outputs": [
        {
          "name": "stdout",
          "output_type": "stream",
          "text": [
            "0.8235294117647058\n"
          ]
        },
        {
          "name": "stderr",
          "output_type": "stream",
          "text": [
            "/usr/local/lib/python3.8/dist-packages/sklearn/utils/validation.py:993: DataConversionWarning: A column-vector y was passed when a 1d array was expected. Please change the shape of y to (n_samples, ), for example using ravel().\n",
            "  y = column_or_1d(y, warn=True)\n"
          ]
        }
      ],
      "source": [
        "classifier = GaussianNB()\n",
        "classifier.fit(x_train, y_train)\n",
        "y_pred11  =  classifier.predict(x_test)\n",
        "score11=accuracy_score(y_pred11,y_test)\n",
        "print(score11)"
      ]
    },
    {
      "cell_type": "markdown",
      "metadata": {
        "id": "_RGjlbehP0Fc"
      },
      "source": [
        "Random forest"
      ]
    },
    {
      "cell_type": "code",
      "execution_count": null,
      "metadata": {
        "colab": {
          "base_uri": "https://localhost:8080/"
        },
        "id": "S0vQ26ebPriz",
        "outputId": "a6d32eb8-a2b4-4e2e-8a38-6017b23c3b28"
      },
      "outputs": [
        {
          "name": "stderr",
          "output_type": "stream",
          "text": [
            "<ipython-input-42-68eeb7eca8f7>:2: DataConversionWarning: A column-vector y was passed when a 1d array was expected. Please change the shape of y to (n_samples,), for example using ravel().\n",
            "  rf.fit(x_train, y_train)\n"
          ]
        },
        {
          "name": "stdout",
          "output_type": "stream",
          "text": [
            "0.9934640522875817\n"
          ]
        }
      ],
      "source": [
        "rf = RandomForestClassifier()\n",
        "rf.fit(x_train, y_train)\n",
        "y_pred12  =  rf.predict(x_test)\n",
        "score12=accuracy_score(y_pred12,y_test)\n",
        "print(score12)"
      ]
    },
    {
      "cell_type": "markdown",
      "metadata": {
        "id": "8YeXzlXxQIEa"
      },
      "source": [
        "Logistic regression"
      ]
    },
    {
      "cell_type": "code",
      "execution_count": null,
      "metadata": {
        "colab": {
          "base_uri": "https://localhost:8080/"
        },
        "id": "d8HsdNE4P2A6",
        "outputId": "9f9dcab0-a4c2-47fb-bfc1-89b3e0fc79d8"
      },
      "outputs": [
        {
          "name": "stdout",
          "output_type": "stream",
          "text": [
            "0.8823529411764706\n"
          ]
        },
        {
          "name": "stderr",
          "output_type": "stream",
          "text": [
            "/usr/local/lib/python3.8/dist-packages/sklearn/utils/validation.py:993: DataConversionWarning: A column-vector y was passed when a 1d array was expected. Please change the shape of y to (n_samples, ), for example using ravel().\n",
            "  y = column_or_1d(y, warn=True)\n",
            "/usr/local/lib/python3.8/dist-packages/sklearn/linear_model/_logistic.py:814: ConvergenceWarning: lbfgs failed to converge (status=1):\n",
            "STOP: TOTAL NO. of ITERATIONS REACHED LIMIT.\n",
            "\n",
            "Increase the number of iterations (max_iter) or scale the data as shown in:\n",
            "    https://scikit-learn.org/stable/modules/preprocessing.html\n",
            "Please also refer to the documentation for alternative solver options:\n",
            "    https://scikit-learn.org/stable/modules/linear_model.html#logistic-regression\n",
            "  n_iter_i = _check_optimize_result(\n"
          ]
        }
      ],
      "source": [
        "logr = linear_model.LogisticRegression()\n",
        "logr.fit(x_train, y_train)\n",
        "pred13 = logr.predict(x_test)\n",
        "score13=accuracy_score(pred13,y_test)\n",
        "print(score13)"
      ]
    },
    {
      "cell_type": "markdown",
      "metadata": {
        "id": "sBwXs-7yQKhZ"
      },
      "source": [
        "Decision Tree Classifier"
      ]
    },
    {
      "cell_type": "code",
      "execution_count": null,
      "metadata": {
        "colab": {
          "base_uri": "https://localhost:8080/"
        },
        "id": "xkyXTf_VQNKs",
        "outputId": "bc1ea989-8436-4e01-9068-cbbab1795945"
      },
      "outputs": [
        {
          "name": "stdout",
          "output_type": "stream",
          "text": [
            "0.9738562091503268\n"
          ]
        }
      ],
      "source": [
        "clf = DecisionTreeClassifier()\n",
        "clf = clf.fit(x_train,y_train)\n",
        "y_pred14 = clf.predict(x_test)\n",
        "score14=accuracy_score(y_pred14,y_test)\n",
        "print(score14)"
      ]
    },
    {
      "cell_type": "markdown",
      "metadata": {
        "id": "wNu9ioVjQUdM"
      },
      "source": [
        "KNN"
      ]
    },
    {
      "cell_type": "code",
      "execution_count": null,
      "metadata": {
        "colab": {
          "base_uri": "https://localhost:8080/"
        },
        "id": "iWCF091zQVI-",
        "outputId": "e517b511-109b-4f48-fcc8-a7592b21a937"
      },
      "outputs": [
        {
          "name": "stdout",
          "output_type": "stream",
          "text": [
            "0.8104575163398693\n"
          ]
        },
        {
          "name": "stderr",
          "output_type": "stream",
          "text": [
            "/usr/local/lib/python3.8/dist-packages/sklearn/neighbors/_classification.py:198: DataConversionWarning: A column-vector y was passed when a 1d array was expected. Please change the shape of y to (n_samples,), for example using ravel().\n",
            "  return self._fit(X, y)\n"
          ]
        }
      ],
      "source": [
        "knn = KNeighborsClassifier(n_neighbors=7)\n",
        "knn.fit(x_train, y_train)\n",
        "pred15=knn.predict(x_test)\n",
        "score15=accuracy_score(pred15,y_test)\n",
        "print(score15)"
      ]
    },
    {
      "cell_type": "code",
      "execution_count": null,
      "metadata": {
        "colab": {
          "base_uri": "https://localhost:8080/"
        },
        "id": "H_AW9omLRAOF",
        "outputId": "b1503d77-a5da-4641-c19c-1d28ba409d9d"
      },
      "outputs": [
        {
          "data": {
            "text/plain": [
              "[0.8235294117647058,\n",
              " 0.9934640522875817,\n",
              " 0.8823529411764706,\n",
              " 0.9738562091503268,\n",
              " 0.8104575163398693]"
            ]
          },
          "execution_count": 46,
          "metadata": {},
          "output_type": "execute_result"
        }
      ],
      "source": [
        "systematic_sampling=[score11,score12,score13,score14,score15]\n",
        "systematic_sampling"
      ]
    },
    {
      "cell_type": "markdown",
      "metadata": {
        "id": "WSdS8EsCUTl9"
      },
      "source": [
        "CLUSTER SAMPLING"
      ]
    },
    {
      "cell_type": "code",
      "execution_count": null,
      "metadata": {
        "colab": {
          "base_uri": "https://localhost:8080/",
          "height": 488
        },
        "id": "hTiM_MsiRK_6",
        "outputId": "6a124087-de60-440f-a275-3304ea034b42"
      },
      "outputs": [
        {
          "data": {
            "text/html": [
              "\n",
              "  <div id=\"df-b1d61d94-2558-4d1a-9636-f06bbdb788b4\">\n",
              "    <div class=\"colab-df-container\">\n",
              "      <div>\n",
              "<style scoped>\n",
              "    .dataframe tbody tr th:only-of-type {\n",
              "        vertical-align: middle;\n",
              "    }\n",
              "\n",
              "    .dataframe tbody tr th {\n",
              "        vertical-align: top;\n",
              "    }\n",
              "\n",
              "    .dataframe thead th {\n",
              "        text-align: right;\n",
              "    }\n",
              "</style>\n",
              "<table border=\"1\" class=\"dataframe\">\n",
              "  <thead>\n",
              "    <tr style=\"text-align: right;\">\n",
              "      <th></th>\n",
              "      <th>Time</th>\n",
              "      <th>V1</th>\n",
              "      <th>V2</th>\n",
              "      <th>V3</th>\n",
              "      <th>V4</th>\n",
              "      <th>V5</th>\n",
              "      <th>V6</th>\n",
              "      <th>V7</th>\n",
              "      <th>V8</th>\n",
              "      <th>V9</th>\n",
              "      <th>...</th>\n",
              "      <th>V22</th>\n",
              "      <th>V23</th>\n",
              "      <th>V24</th>\n",
              "      <th>V25</th>\n",
              "      <th>V26</th>\n",
              "      <th>V27</th>\n",
              "      <th>V28</th>\n",
              "      <th>Amount</th>\n",
              "      <th>Class</th>\n",
              "      <th>cluster</th>\n",
              "    </tr>\n",
              "  </thead>\n",
              "  <tbody>\n",
              "    <tr>\n",
              "      <th>4</th>\n",
              "      <td>2</td>\n",
              "      <td>-1.158233</td>\n",
              "      <td>0.877737</td>\n",
              "      <td>1.548718</td>\n",
              "      <td>0.403034</td>\n",
              "      <td>-0.407193</td>\n",
              "      <td>0.095921</td>\n",
              "      <td>0.592941</td>\n",
              "      <td>-0.270533</td>\n",
              "      <td>0.817739</td>\n",
              "      <td>...</td>\n",
              "      <td>0.798278</td>\n",
              "      <td>-0.137458</td>\n",
              "      <td>0.141267</td>\n",
              "      <td>-0.206010</td>\n",
              "      <td>0.502292</td>\n",
              "      <td>0.219422</td>\n",
              "      <td>0.215153</td>\n",
              "      <td>69.990000</td>\n",
              "      <td>0</td>\n",
              "      <td>0</td>\n",
              "    </tr>\n",
              "    <tr>\n",
              "      <th>431</th>\n",
              "      <td>311</td>\n",
              "      <td>1.182238</td>\n",
              "      <td>-0.147518</td>\n",
              "      <td>1.248518</td>\n",
              "      <td>0.862034</td>\n",
              "      <td>-1.076728</td>\n",
              "      <td>-0.299690</td>\n",
              "      <td>-0.614840</td>\n",
              "      <td>0.064575</td>\n",
              "      <td>0.907341</td>\n",
              "      <td>...</td>\n",
              "      <td>-0.057346</td>\n",
              "      <td>0.030121</td>\n",
              "      <td>0.438310</td>\n",
              "      <td>0.259808</td>\n",
              "      <td>0.315896</td>\n",
              "      <td>0.017962</td>\n",
              "      <td>0.027611</td>\n",
              "      <td>8.580000</td>\n",
              "      <td>0</td>\n",
              "      <td>0</td>\n",
              "    </tr>\n",
              "    <tr>\n",
              "      <th>428</th>\n",
              "      <td>310</td>\n",
              "      <td>-1.013287</td>\n",
              "      <td>0.512380</td>\n",
              "      <td>0.837259</td>\n",
              "      <td>0.408468</td>\n",
              "      <td>2.078535</td>\n",
              "      <td>4.692662</td>\n",
              "      <td>-0.294088</td>\n",
              "      <td>0.898044</td>\n",
              "      <td>0.919347</td>\n",
              "      <td>...</td>\n",
              "      <td>-0.879661</td>\n",
              "      <td>-0.147591</td>\n",
              "      <td>1.003181</td>\n",
              "      <td>0.118079</td>\n",
              "      <td>-0.460627</td>\n",
              "      <td>-0.271700</td>\n",
              "      <td>0.012446</td>\n",
              "      <td>22.090000</td>\n",
              "      <td>0</td>\n",
              "      <td>0</td>\n",
              "    </tr>\n",
              "    <tr>\n",
              "      <th>464</th>\n",
              "      <td>341</td>\n",
              "      <td>-0.268621</td>\n",
              "      <td>-0.233374</td>\n",
              "      <td>1.025263</td>\n",
              "      <td>-2.129325</td>\n",
              "      <td>1.566375</td>\n",
              "      <td>3.863064</td>\n",
              "      <td>-0.732265</td>\n",
              "      <td>0.807716</td>\n",
              "      <td>-1.230053</td>\n",
              "      <td>...</td>\n",
              "      <td>0.921648</td>\n",
              "      <td>-0.410791</td>\n",
              "      <td>1.052995</td>\n",
              "      <td>0.398555</td>\n",
              "      <td>0.070685</td>\n",
              "      <td>-0.070437</td>\n",
              "      <td>-0.148873</td>\n",
              "      <td>22.000000</td>\n",
              "      <td>0</td>\n",
              "      <td>0</td>\n",
              "    </tr>\n",
              "    <tr>\n",
              "      <th>1519</th>\n",
              "      <td>480</td>\n",
              "      <td>-0.997229</td>\n",
              "      <td>0.475811</td>\n",
              "      <td>1.573740</td>\n",
              "      <td>0.373255</td>\n",
              "      <td>0.892028</td>\n",
              "      <td>-0.927256</td>\n",
              "      <td>0.708357</td>\n",
              "      <td>-0.079250</td>\n",
              "      <td>-0.273392</td>\n",
              "      <td>...</td>\n",
              "      <td>0.265571</td>\n",
              "      <td>-0.268319</td>\n",
              "      <td>0.382128</td>\n",
              "      <td>0.373804</td>\n",
              "      <td>-0.422298</td>\n",
              "      <td>-0.086186</td>\n",
              "      <td>-0.126640</td>\n",
              "      <td>0.950047</td>\n",
              "      <td>1</td>\n",
              "      <td>0</td>\n",
              "    </tr>\n",
              "    <tr>\n",
              "      <th>...</th>\n",
              "      <td>...</td>\n",
              "      <td>...</td>\n",
              "      <td>...</td>\n",
              "      <td>...</td>\n",
              "      <td>...</td>\n",
              "      <td>...</td>\n",
              "      <td>...</td>\n",
              "      <td>...</td>\n",
              "      <td>...</td>\n",
              "      <td>...</td>\n",
              "      <td>...</td>\n",
              "      <td>...</td>\n",
              "      <td>...</td>\n",
              "      <td>...</td>\n",
              "      <td>...</td>\n",
              "      <td>...</td>\n",
              "      <td>...</td>\n",
              "      <td>...</td>\n",
              "      <td>...</td>\n",
              "      <td>...</td>\n",
              "      <td>...</td>\n",
              "    </tr>\n",
              "    <tr>\n",
              "      <th>177</th>\n",
              "      <td>114</td>\n",
              "      <td>1.194066</td>\n",
              "      <td>-0.072582</td>\n",
              "      <td>0.635286</td>\n",
              "      <td>0.768616</td>\n",
              "      <td>-0.735584</td>\n",
              "      <td>-0.673466</td>\n",
              "      <td>-0.146299</td>\n",
              "      <td>-0.065653</td>\n",
              "      <td>0.646048</td>\n",
              "      <td>...</td>\n",
              "      <td>-0.770991</td>\n",
              "      <td>0.074444</td>\n",
              "      <td>0.397713</td>\n",
              "      <td>0.285947</td>\n",
              "      <td>0.286760</td>\n",
              "      <td>-0.031033</td>\n",
              "      <td>0.017052</td>\n",
              "      <td>23.880000</td>\n",
              "      <td>0</td>\n",
              "      <td>13</td>\n",
              "    </tr>\n",
              "    <tr>\n",
              "      <th>1089</th>\n",
              "      <td>224</td>\n",
              "      <td>-0.519626</td>\n",
              "      <td>0.899330</td>\n",
              "      <td>-0.060686</td>\n",
              "      <td>1.080316</td>\n",
              "      <td>0.488528</td>\n",
              "      <td>-0.165700</td>\n",
              "      <td>-0.408179</td>\n",
              "      <td>0.450801</td>\n",
              "      <td>-0.781140</td>\n",
              "      <td>...</td>\n",
              "      <td>-0.295693</td>\n",
              "      <td>-0.002190</td>\n",
              "      <td>-0.945261</td>\n",
              "      <td>-1.032667</td>\n",
              "      <td>0.100877</td>\n",
              "      <td>0.239058</td>\n",
              "      <td>0.137327</td>\n",
              "      <td>0.743873</td>\n",
              "      <td>1</td>\n",
              "      <td>13</td>\n",
              "    </tr>\n",
              "    <tr>\n",
              "      <th>17</th>\n",
              "      <td>13</td>\n",
              "      <td>-0.436905</td>\n",
              "      <td>0.918966</td>\n",
              "      <td>0.924591</td>\n",
              "      <td>-0.727219</td>\n",
              "      <td>0.915679</td>\n",
              "      <td>-0.127867</td>\n",
              "      <td>0.707642</td>\n",
              "      <td>0.087962</td>\n",
              "      <td>-0.665271</td>\n",
              "      <td>...</td>\n",
              "      <td>-0.672638</td>\n",
              "      <td>-0.156858</td>\n",
              "      <td>-0.888386</td>\n",
              "      <td>-0.342413</td>\n",
              "      <td>-0.049027</td>\n",
              "      <td>0.079692</td>\n",
              "      <td>0.131024</td>\n",
              "      <td>0.890000</td>\n",
              "      <td>0</td>\n",
              "      <td>13</td>\n",
              "    </tr>\n",
              "    <tr>\n",
              "      <th>824</th>\n",
              "      <td>563</td>\n",
              "      <td>0.508838</td>\n",
              "      <td>-0.292651</td>\n",
              "      <td>0.803427</td>\n",
              "      <td>0.793931</td>\n",
              "      <td>0.290308</td>\n",
              "      <td>-0.685548</td>\n",
              "      <td>-0.412397</td>\n",
              "      <td>0.019228</td>\n",
              "      <td>0.231504</td>\n",
              "      <td>...</td>\n",
              "      <td>-0.357291</td>\n",
              "      <td>0.166776</td>\n",
              "      <td>0.067268</td>\n",
              "      <td>0.119889</td>\n",
              "      <td>0.270592</td>\n",
              "      <td>-0.045732</td>\n",
              "      <td>-0.015484</td>\n",
              "      <td>1.338266</td>\n",
              "      <td>1</td>\n",
              "      <td>13</td>\n",
              "    </tr>\n",
              "    <tr>\n",
              "      <th>1094</th>\n",
              "      <td>92</td>\n",
              "      <td>0.560406</td>\n",
              "      <td>0.427002</td>\n",
              "      <td>0.327629</td>\n",
              "      <td>0.260028</td>\n",
              "      <td>0.490784</td>\n",
              "      <td>0.106133</td>\n",
              "      <td>0.132999</td>\n",
              "      <td>0.115814</td>\n",
              "      <td>-0.180683</td>\n",
              "      <td>...</td>\n",
              "      <td>-0.493711</td>\n",
              "      <td>0.129363</td>\n",
              "      <td>-0.918088</td>\n",
              "      <td>-0.711523</td>\n",
              "      <td>0.097391</td>\n",
              "      <td>0.126940</td>\n",
              "      <td>0.136370</td>\n",
              "      <td>1.730142</td>\n",
              "      <td>1</td>\n",
              "      <td>13</td>\n",
              "    </tr>\n",
              "  </tbody>\n",
              "</table>\n",
              "<p>763 rows × 32 columns</p>\n",
              "</div>\n",
              "      <button class=\"colab-df-convert\" onclick=\"convertToInteractive('df-b1d61d94-2558-4d1a-9636-f06bbdb788b4')\"\n",
              "              title=\"Convert this dataframe to an interactive table.\"\n",
              "              style=\"display:none;\">\n",
              "        \n",
              "  <svg xmlns=\"http://www.w3.org/2000/svg\" height=\"24px\"viewBox=\"0 0 24 24\"\n",
              "       width=\"24px\">\n",
              "    <path d=\"M0 0h24v24H0V0z\" fill=\"none\"/>\n",
              "    <path d=\"M18.56 5.44l.94 2.06.94-2.06 2.06-.94-2.06-.94-.94-2.06-.94 2.06-2.06.94zm-11 1L8.5 8.5l.94-2.06 2.06-.94-2.06-.94L8.5 2.5l-.94 2.06-2.06.94zm10 10l.94 2.06.94-2.06 2.06-.94-2.06-.94-.94-2.06-.94 2.06-2.06.94z\"/><path d=\"M17.41 7.96l-1.37-1.37c-.4-.4-.92-.59-1.43-.59-.52 0-1.04.2-1.43.59L10.3 9.45l-7.72 7.72c-.78.78-.78 2.05 0 2.83L4 21.41c.39.39.9.59 1.41.59.51 0 1.02-.2 1.41-.59l7.78-7.78 2.81-2.81c.8-.78.8-2.07 0-2.86zM5.41 20L4 18.59l7.72-7.72 1.47 1.35L5.41 20z\"/>\n",
              "  </svg>\n",
              "      </button>\n",
              "      \n",
              "  <style>\n",
              "    .colab-df-container {\n",
              "      display:flex;\n",
              "      flex-wrap:wrap;\n",
              "      gap: 12px;\n",
              "    }\n",
              "\n",
              "    .colab-df-convert {\n",
              "      background-color: #E8F0FE;\n",
              "      border: none;\n",
              "      border-radius: 50%;\n",
              "      cursor: pointer;\n",
              "      display: none;\n",
              "      fill: #1967D2;\n",
              "      height: 32px;\n",
              "      padding: 0 0 0 0;\n",
              "      width: 32px;\n",
              "    }\n",
              "\n",
              "    .colab-df-convert:hover {\n",
              "      background-color: #E2EBFA;\n",
              "      box-shadow: 0px 1px 2px rgba(60, 64, 67, 0.3), 0px 1px 3px 1px rgba(60, 64, 67, 0.15);\n",
              "      fill: #174EA6;\n",
              "    }\n",
              "\n",
              "    [theme=dark] .colab-df-convert {\n",
              "      background-color: #3B4455;\n",
              "      fill: #D2E3FC;\n",
              "    }\n",
              "\n",
              "    [theme=dark] .colab-df-convert:hover {\n",
              "      background-color: #434B5C;\n",
              "      box-shadow: 0px 1px 3px 1px rgba(0, 0, 0, 0.15);\n",
              "      filter: drop-shadow(0px 1px 2px rgba(0, 0, 0, 0.3));\n",
              "      fill: #FFFFFF;\n",
              "    }\n",
              "  </style>\n",
              "\n",
              "      <script>\n",
              "        const buttonEl =\n",
              "          document.querySelector('#df-b1d61d94-2558-4d1a-9636-f06bbdb788b4 button.colab-df-convert');\n",
              "        buttonEl.style.display =\n",
              "          google.colab.kernel.accessAllowed ? 'block' : 'none';\n",
              "\n",
              "        async function convertToInteractive(key) {\n",
              "          const element = document.querySelector('#df-b1d61d94-2558-4d1a-9636-f06bbdb788b4');\n",
              "          const dataTable =\n",
              "            await google.colab.kernel.invokeFunction('convertToInteractive',\n",
              "                                                     [key], {});\n",
              "          if (!dataTable) return;\n",
              "\n",
              "          const docLinkHtml = 'Like what you see? Visit the ' +\n",
              "            '<a target=\"_blank\" href=https://colab.research.google.com/notebooks/data_table.ipynb>data table notebook</a>'\n",
              "            + ' to learn more about interactive tables.';\n",
              "          element.innerHTML = '';\n",
              "          dataTable['output_type'] = 'display_data';\n",
              "          await google.colab.output.renderOutput(dataTable, element);\n",
              "          const docLink = document.createElement('div');\n",
              "          docLink.innerHTML = docLinkHtml;\n",
              "          element.appendChild(docLink);\n",
              "        }\n",
              "      </script>\n",
              "    </div>\n",
              "  </div>\n",
              "  "
            ],
            "text/plain": [
              "      Time        V1        V2        V3        V4        V5        V6  \\\n",
              "4        2 -1.158233  0.877737  1.548718  0.403034 -0.407193  0.095921   \n",
              "431    311  1.182238 -0.147518  1.248518  0.862034 -1.076728 -0.299690   \n",
              "428    310 -1.013287  0.512380  0.837259  0.408468  2.078535  4.692662   \n",
              "464    341 -0.268621 -0.233374  1.025263 -2.129325  1.566375  3.863064   \n",
              "1519   480 -0.997229  0.475811  1.573740  0.373255  0.892028 -0.927256   \n",
              "...    ...       ...       ...       ...       ...       ...       ...   \n",
              "177    114  1.194066 -0.072582  0.635286  0.768616 -0.735584 -0.673466   \n",
              "1089   224 -0.519626  0.899330 -0.060686  1.080316  0.488528 -0.165700   \n",
              "17      13 -0.436905  0.918966  0.924591 -0.727219  0.915679 -0.127867   \n",
              "824    563  0.508838 -0.292651  0.803427  0.793931  0.290308 -0.685548   \n",
              "1094    92  0.560406  0.427002  0.327629  0.260028  0.490784  0.106133   \n",
              "\n",
              "            V7        V8        V9  ...       V22       V23       V24  \\\n",
              "4     0.592941 -0.270533  0.817739  ...  0.798278 -0.137458  0.141267   \n",
              "431  -0.614840  0.064575  0.907341  ... -0.057346  0.030121  0.438310   \n",
              "428  -0.294088  0.898044  0.919347  ... -0.879661 -0.147591  1.003181   \n",
              "464  -0.732265  0.807716 -1.230053  ...  0.921648 -0.410791  1.052995   \n",
              "1519  0.708357 -0.079250 -0.273392  ...  0.265571 -0.268319  0.382128   \n",
              "...        ...       ...       ...  ...       ...       ...       ...   \n",
              "177  -0.146299 -0.065653  0.646048  ... -0.770991  0.074444  0.397713   \n",
              "1089 -0.408179  0.450801 -0.781140  ... -0.295693 -0.002190 -0.945261   \n",
              "17    0.707642  0.087962 -0.665271  ... -0.672638 -0.156858 -0.888386   \n",
              "824  -0.412397  0.019228  0.231504  ... -0.357291  0.166776  0.067268   \n",
              "1094  0.132999  0.115814 -0.180683  ... -0.493711  0.129363 -0.918088   \n",
              "\n",
              "           V25       V26       V27       V28     Amount  Class  cluster  \n",
              "4    -0.206010  0.502292  0.219422  0.215153  69.990000      0        0  \n",
              "431   0.259808  0.315896  0.017962  0.027611   8.580000      0        0  \n",
              "428   0.118079 -0.460627 -0.271700  0.012446  22.090000      0        0  \n",
              "464   0.398555  0.070685 -0.070437 -0.148873  22.000000      0        0  \n",
              "1519  0.373804 -0.422298 -0.086186 -0.126640   0.950047      1        0  \n",
              "...        ...       ...       ...       ...        ...    ...      ...  \n",
              "177   0.285947  0.286760 -0.031033  0.017052  23.880000      0       13  \n",
              "1089 -1.032667  0.100877  0.239058  0.137327   0.743873      1       13  \n",
              "17   -0.342413 -0.049027  0.079692  0.131024   0.890000      0       13  \n",
              "824   0.119889  0.270592 -0.045732 -0.015484   1.338266      1       13  \n",
              "1094 -0.711523  0.097391  0.126940  0.136370   1.730142      1       13  \n",
              "\n",
              "[763 rows x 32 columns]"
            ]
          },
          "execution_count": 47,
          "metadata": {},
          "output_type": "execute_result"
        }
      ],
      "source": [
        "def get_clustered_Sample(df, n_per_cluster, num_select_clusters):\n",
        "    N = len(df)\n",
        "    K = int(N/n_per_cluster)\n",
        "    data = None\n",
        "    for k in range(K):\n",
        "        sample_k = df.sample(n_per_cluster)\n",
        "        sample_k[\"cluster\"] = np.repeat(k,len(sample_k))\n",
        "        df = df.drop(index = sample_k.index)\n",
        "        data = pd.concat([data,sample_k],axis = 0)\n",
        "    random_chosen_clusters = np.random.randint(0,K,size = num_select_clusters)\n",
        "    samples = data[data.cluster.isin(random_chosen_clusters)]\n",
        "    return(samples)\n",
        "cluster_data = get_clustered_Sample(df = x_res, n_per_cluster = 109, num_select_clusters = 7)\n",
        "cluster_data"
      ]
    },
    {
      "cell_type": "code",
      "execution_count": null,
      "metadata": {
        "id": "oq1056_VU6dC"
      },
      "outputs": [],
      "source": [
        "x = cluster_data.iloc[:,cluster_data.columns!='Class']\n",
        "y = cluster_data.iloc[:,cluster_data.columns=='Class']"
      ]
    },
    {
      "cell_type": "code",
      "execution_count": null,
      "metadata": {
        "id": "D3etMeK_Xdxo"
      },
      "outputs": [],
      "source": [
        "from sklearn.model_selection import train_test_split\n",
        "x_train, x_test, y_train, y_test = train_test_split(x, y, test_size = 0.20, random_state = 0)"
      ]
    },
    {
      "cell_type": "markdown",
      "metadata": {
        "id": "9DkS2RUEXpvK"
      },
      "source": [
        "Naive Bayes"
      ]
    },
    {
      "cell_type": "code",
      "execution_count": null,
      "metadata": {
        "colab": {
          "base_uri": "https://localhost:8080/"
        },
        "id": "ehtfo1R2XrMk",
        "outputId": "4a1fdeee-2e36-4c41-d6f5-fae3e07180df"
      },
      "outputs": [
        {
          "name": "stdout",
          "output_type": "stream",
          "text": [
            "0.8104575163398693\n"
          ]
        },
        {
          "name": "stderr",
          "output_type": "stream",
          "text": [
            "/usr/local/lib/python3.8/dist-packages/sklearn/utils/validation.py:993: DataConversionWarning: A column-vector y was passed when a 1d array was expected. Please change the shape of y to (n_samples, ), for example using ravel().\n",
            "  y = column_or_1d(y, warn=True)\n"
          ]
        }
      ],
      "source": [
        "classifier = GaussianNB()\n",
        "classifier.fit(x_train, y_train)\n",
        "y_pred16  =  classifier.predict(x_test)\n",
        "score16=accuracy_score(y_pred16,y_test)\n",
        "print(score16)"
      ]
    },
    {
      "cell_type": "markdown",
      "metadata": {
        "id": "JpLMQfNvXyeb"
      },
      "source": [
        "Random Forest"
      ]
    },
    {
      "cell_type": "code",
      "execution_count": null,
      "metadata": {
        "colab": {
          "base_uri": "https://localhost:8080/"
        },
        "id": "SmPVFO7iX0Lu",
        "outputId": "0138fc7e-869e-4d46-99e3-04e35b8bf597"
      },
      "outputs": [
        {
          "name": "stderr",
          "output_type": "stream",
          "text": [
            "<ipython-input-51-6783f2b48473>:2: DataConversionWarning: A column-vector y was passed when a 1d array was expected. Please change the shape of y to (n_samples,), for example using ravel().\n",
            "  rf.fit(x_train, y_train)\n"
          ]
        },
        {
          "name": "stdout",
          "output_type": "stream",
          "text": [
            "0.9803921568627451\n"
          ]
        }
      ],
      "source": [
        "rf = RandomForestClassifier()\n",
        "rf.fit(x_train, y_train)\n",
        "y_pred17  =  rf.predict(x_test)\n",
        "score17=accuracy_score(y_pred17,y_test)\n",
        "print(score17)"
      ]
    },
    {
      "cell_type": "markdown",
      "metadata": {
        "id": "MLVxDjiHYIl1"
      },
      "source": [
        "Logistic Regression"
      ]
    },
    {
      "cell_type": "code",
      "execution_count": null,
      "metadata": {
        "colab": {
          "base_uri": "https://localhost:8080/"
        },
        "id": "YF9l1UiXYXPr",
        "outputId": "0db6284c-3371-423e-97db-326ed8047f58"
      },
      "outputs": [
        {
          "name": "stdout",
          "output_type": "stream",
          "text": [
            "0.9281045751633987\n"
          ]
        },
        {
          "name": "stderr",
          "output_type": "stream",
          "text": [
            "/usr/local/lib/python3.8/dist-packages/sklearn/utils/validation.py:993: DataConversionWarning: A column-vector y was passed when a 1d array was expected. Please change the shape of y to (n_samples, ), for example using ravel().\n",
            "  y = column_or_1d(y, warn=True)\n",
            "/usr/local/lib/python3.8/dist-packages/sklearn/linear_model/_logistic.py:814: ConvergenceWarning: lbfgs failed to converge (status=1):\n",
            "STOP: TOTAL NO. of ITERATIONS REACHED LIMIT.\n",
            "\n",
            "Increase the number of iterations (max_iter) or scale the data as shown in:\n",
            "    https://scikit-learn.org/stable/modules/preprocessing.html\n",
            "Please also refer to the documentation for alternative solver options:\n",
            "    https://scikit-learn.org/stable/modules/linear_model.html#logistic-regression\n",
            "  n_iter_i = _check_optimize_result(\n"
          ]
        }
      ],
      "source": [
        "logr = linear_model.LogisticRegression()\n",
        "logr.fit(x_train, y_train)\n",
        "pred18 = logr.predict(x_test)\n",
        "score18=accuracy_score(pred18,y_test)\n",
        "print(score18)"
      ]
    },
    {
      "cell_type": "markdown",
      "metadata": {
        "id": "eE62v4IfYdoV"
      },
      "source": [
        "Decision Tree Classifier"
      ]
    },
    {
      "cell_type": "code",
      "execution_count": null,
      "metadata": {
        "colab": {
          "base_uri": "https://localhost:8080/"
        },
        "id": "v0DW6KfwYg-L",
        "outputId": "29eb1bfc-6dce-479c-eeb0-ecc2684714a2"
      },
      "outputs": [
        {
          "name": "stdout",
          "output_type": "stream",
          "text": [
            "0.9673202614379085\n"
          ]
        }
      ],
      "source": [
        "clf = DecisionTreeClassifier()\n",
        "clf = clf.fit(x_train,y_train)\n",
        "y_pred19 = clf.predict(x_test)\n",
        "score19=accuracy_score(y_pred19,y_test)\n",
        "print(score19)"
      ]
    },
    {
      "cell_type": "markdown",
      "metadata": {
        "id": "t6dULhOsYpSu"
      },
      "source": [
        "KNN"
      ]
    },
    {
      "cell_type": "code",
      "execution_count": null,
      "metadata": {
        "colab": {
          "base_uri": "https://localhost:8080/"
        },
        "id": "rBnkBws0YqSe",
        "outputId": "e71a9f92-80fb-4b63-ad29-178f37c8ca37"
      },
      "outputs": [
        {
          "name": "stdout",
          "output_type": "stream",
          "text": [
            "0.738562091503268\n"
          ]
        },
        {
          "name": "stderr",
          "output_type": "stream",
          "text": [
            "/usr/local/lib/python3.8/dist-packages/sklearn/neighbors/_classification.py:198: DataConversionWarning: A column-vector y was passed when a 1d array was expected. Please change the shape of y to (n_samples,), for example using ravel().\n",
            "  return self._fit(X, y)\n"
          ]
        }
      ],
      "source": [
        "knn = KNeighborsClassifier(n_neighbors=7)\n",
        "knn.fit(x_train, y_train)\n",
        "pred20=knn.predict(x_test)\n",
        "score20=accuracy_score(pred20,y_test)\n",
        "print(score20)"
      ]
    },
    {
      "cell_type": "code",
      "execution_count": null,
      "metadata": {
        "colab": {
          "base_uri": "https://localhost:8080/"
        },
        "id": "5OeaxVttY1s2",
        "outputId": "0d1a9df2-53ba-407a-ec76-e5b6827e0367"
      },
      "outputs": [
        {
          "data": {
            "text/plain": [
              "[0.8104575163398693,\n",
              " 0.9803921568627451,\n",
              " 0.9281045751633987,\n",
              " 0.9673202614379085,\n",
              " 0.738562091503268]"
            ]
          },
          "execution_count": 55,
          "metadata": {},
          "output_type": "execute_result"
        }
      ],
      "source": [
        "cluster_sampling=[score16,score17,score18,score19,score20]\n",
        "cluster_sampling"
      ]
    },
    {
      "cell_type": "markdown",
      "metadata": {
        "id": "Z-jPe1kwwBJu"
      },
      "source": [
        "Comibining all the calculated accuracies of different sampling techniques in a single table"
      ]
    },
    {
      "cell_type": "code",
      "execution_count": null,
      "metadata": {
        "id": "mRBN0sKgZAtC"
      },
      "outputs": [],
      "source": [
        "df2=pd.DataFrame"
      ]
    },
    {
      "cell_type": "code",
      "execution_count": null,
      "metadata": {
        "id": "aVgxn_1x7yy9"
      },
      "outputs": [],
      "source": [
        "model=['Naive Bayes','Random Forest','Logistic Regression','Decision Tree classifier','KNN']\n",
        "finaltable= {\n",
        "    'Models': model,\n",
        "    'Simple random':simple_sampling,\n",
        "    'Stratified' :stratified_sampling,\n",
        "    'Systematic': systematic_sampling,\n",
        "    'Cluster':cluster_sampling\n",
        "          }\n",
        "df2 = pd.DataFrame(finaltable)"
      ]
    },
    {
      "cell_type": "code",
      "execution_count": null,
      "metadata": {
        "colab": {
          "base_uri": "https://localhost:8080/",
          "height": 206
        },
        "id": "WFta-SHv8aZ0",
        "outputId": "e2647728-0838-4ba5-fe40-620f43109577"
      },
      "outputs": [
        {
          "data": {
            "text/html": [
              "\n",
              "  <div id=\"df-0c3efcbc-ef79-49d1-a609-49526f23b1b3\">\n",
              "    <div class=\"colab-df-container\">\n",
              "      <div>\n",
              "<style scoped>\n",
              "    .dataframe tbody tr th:only-of-type {\n",
              "        vertical-align: middle;\n",
              "    }\n",
              "\n",
              "    .dataframe tbody tr th {\n",
              "        vertical-align: top;\n",
              "    }\n",
              "\n",
              "    .dataframe thead th {\n",
              "        text-align: right;\n",
              "    }\n",
              "</style>\n",
              "<table border=\"1\" class=\"dataframe\">\n",
              "  <thead>\n",
              "    <tr style=\"text-align: right;\">\n",
              "      <th></th>\n",
              "      <th>Models</th>\n",
              "      <th>Simple random</th>\n",
              "      <th>Stratified</th>\n",
              "      <th>Systematic</th>\n",
              "      <th>Cluster</th>\n",
              "    </tr>\n",
              "  </thead>\n",
              "  <tbody>\n",
              "    <tr>\n",
              "      <th>0</th>\n",
              "      <td>Naive Bayes</td>\n",
              "      <td>0.855140</td>\n",
              "      <td>0.847134</td>\n",
              "      <td>0.823529</td>\n",
              "      <td>0.810458</td>\n",
              "    </tr>\n",
              "    <tr>\n",
              "      <th>1</th>\n",
              "      <td>Random Forest</td>\n",
              "      <td>0.985981</td>\n",
              "      <td>0.993631</td>\n",
              "      <td>0.993464</td>\n",
              "      <td>0.980392</td>\n",
              "    </tr>\n",
              "    <tr>\n",
              "      <th>2</th>\n",
              "      <td>Logistic Regression</td>\n",
              "      <td>0.939252</td>\n",
              "      <td>0.929936</td>\n",
              "      <td>0.882353</td>\n",
              "      <td>0.928105</td>\n",
              "    </tr>\n",
              "    <tr>\n",
              "      <th>3</th>\n",
              "      <td>Decision Tree classifier</td>\n",
              "      <td>0.976636</td>\n",
              "      <td>0.968153</td>\n",
              "      <td>0.973856</td>\n",
              "      <td>0.967320</td>\n",
              "    </tr>\n",
              "    <tr>\n",
              "      <th>4</th>\n",
              "      <td>KNN</td>\n",
              "      <td>0.789720</td>\n",
              "      <td>0.878981</td>\n",
              "      <td>0.810458</td>\n",
              "      <td>0.738562</td>\n",
              "    </tr>\n",
              "  </tbody>\n",
              "</table>\n",
              "</div>\n",
              "      <button class=\"colab-df-convert\" onclick=\"convertToInteractive('df-0c3efcbc-ef79-49d1-a609-49526f23b1b3')\"\n",
              "              title=\"Convert this dataframe to an interactive table.\"\n",
              "              style=\"display:none;\">\n",
              "        \n",
              "  <svg xmlns=\"http://www.w3.org/2000/svg\" height=\"24px\"viewBox=\"0 0 24 24\"\n",
              "       width=\"24px\">\n",
              "    <path d=\"M0 0h24v24H0V0z\" fill=\"none\"/>\n",
              "    <path d=\"M18.56 5.44l.94 2.06.94-2.06 2.06-.94-2.06-.94-.94-2.06-.94 2.06-2.06.94zm-11 1L8.5 8.5l.94-2.06 2.06-.94-2.06-.94L8.5 2.5l-.94 2.06-2.06.94zm10 10l.94 2.06.94-2.06 2.06-.94-2.06-.94-.94-2.06-.94 2.06-2.06.94z\"/><path d=\"M17.41 7.96l-1.37-1.37c-.4-.4-.92-.59-1.43-.59-.52 0-1.04.2-1.43.59L10.3 9.45l-7.72 7.72c-.78.78-.78 2.05 0 2.83L4 21.41c.39.39.9.59 1.41.59.51 0 1.02-.2 1.41-.59l7.78-7.78 2.81-2.81c.8-.78.8-2.07 0-2.86zM5.41 20L4 18.59l7.72-7.72 1.47 1.35L5.41 20z\"/>\n",
              "  </svg>\n",
              "      </button>\n",
              "      \n",
              "  <style>\n",
              "    .colab-df-container {\n",
              "      display:flex;\n",
              "      flex-wrap:wrap;\n",
              "      gap: 12px;\n",
              "    }\n",
              "\n",
              "    .colab-df-convert {\n",
              "      background-color: #E8F0FE;\n",
              "      border: none;\n",
              "      border-radius: 50%;\n",
              "      cursor: pointer;\n",
              "      display: none;\n",
              "      fill: #1967D2;\n",
              "      height: 32px;\n",
              "      padding: 0 0 0 0;\n",
              "      width: 32px;\n",
              "    }\n",
              "\n",
              "    .colab-df-convert:hover {\n",
              "      background-color: #E2EBFA;\n",
              "      box-shadow: 0px 1px 2px rgba(60, 64, 67, 0.3), 0px 1px 3px 1px rgba(60, 64, 67, 0.15);\n",
              "      fill: #174EA6;\n",
              "    }\n",
              "\n",
              "    [theme=dark] .colab-df-convert {\n",
              "      background-color: #3B4455;\n",
              "      fill: #D2E3FC;\n",
              "    }\n",
              "\n",
              "    [theme=dark] .colab-df-convert:hover {\n",
              "      background-color: #434B5C;\n",
              "      box-shadow: 0px 1px 3px 1px rgba(0, 0, 0, 0.15);\n",
              "      filter: drop-shadow(0px 1px 2px rgba(0, 0, 0, 0.3));\n",
              "      fill: #FFFFFF;\n",
              "    }\n",
              "  </style>\n",
              "\n",
              "      <script>\n",
              "        const buttonEl =\n",
              "          document.querySelector('#df-0c3efcbc-ef79-49d1-a609-49526f23b1b3 button.colab-df-convert');\n",
              "        buttonEl.style.display =\n",
              "          google.colab.kernel.accessAllowed ? 'block' : 'none';\n",
              "\n",
              "        async function convertToInteractive(key) {\n",
              "          const element = document.querySelector('#df-0c3efcbc-ef79-49d1-a609-49526f23b1b3');\n",
              "          const dataTable =\n",
              "            await google.colab.kernel.invokeFunction('convertToInteractive',\n",
              "                                                     [key], {});\n",
              "          if (!dataTable) return;\n",
              "\n",
              "          const docLinkHtml = 'Like what you see? Visit the ' +\n",
              "            '<a target=\"_blank\" href=https://colab.research.google.com/notebooks/data_table.ipynb>data table notebook</a>'\n",
              "            + ' to learn more about interactive tables.';\n",
              "          element.innerHTML = '';\n",
              "          dataTable['output_type'] = 'display_data';\n",
              "          await google.colab.output.renderOutput(dataTable, element);\n",
              "          const docLink = document.createElement('div');\n",
              "          docLink.innerHTML = docLinkHtml;\n",
              "          element.appendChild(docLink);\n",
              "        }\n",
              "      </script>\n",
              "    </div>\n",
              "  </div>\n",
              "  "
            ],
            "text/plain": [
              "                     Models  Simple random  Stratified  Systematic   Cluster\n",
              "0               Naive Bayes       0.855140    0.847134    0.823529  0.810458\n",
              "1             Random Forest       0.985981    0.993631    0.993464  0.980392\n",
              "2       Logistic Regression       0.939252    0.929936    0.882353  0.928105\n",
              "3  Decision Tree classifier       0.976636    0.968153    0.973856  0.967320\n",
              "4                       KNN       0.789720    0.878981    0.810458  0.738562"
            ]
          },
          "execution_count": 58,
          "metadata": {},
          "output_type": "execute_result"
        }
      ],
      "source": [
        "df2"
      ]
    },
    {
      "cell_type": "markdown",
      "metadata": {
        "id": "d8_BwPwyJjCc"
      },
      "source": [
        "From the above table we can conclude that Random forest shows maximum accuracy with all the above sampling techniques."
      ]
    }
  ],
  "metadata": {
    "colab": {
      "provenance": []
    },
    "kernelspec": {
      "display_name": "Python 3",
      "name": "python3"
    },
    "language_info": {
      "name": "python"
    }
  },
  "nbformat": 4,
  "nbformat_minor": 0
}
